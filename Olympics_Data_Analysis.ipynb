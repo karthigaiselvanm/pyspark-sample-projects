{
 "cells": [
  {
   "cell_type": "markdown",
   "metadata": {},
   "source": [
    "## Olympic Data Analysis using Apache Spark"
   ]
  },
  {
   "cell_type": "markdown",
   "metadata": {},
   "source": [
    "#### Creating a SparkSession"
   ]
  },
  {
   "cell_type": "code",
   "execution_count": 1,
   "metadata": {},
   "outputs": [],
   "source": [
    "from pyspark.sql import SparkSession, Window\n",
    "from pyspark.sql.types import *\n",
    "from pyspark.sql.functions import *\n",
    "\n",
    "spark = SparkSession.builder.appName(\"Olympic Data Analysis\").getOrCreate()"
   ]
  },
  {
   "cell_type": "markdown",
   "metadata": {},
   "source": [
    "#### Reading the data file and creating a DataFrame "
   ]
  },
  {
   "cell_type": "code",
   "execution_count": 2,
   "metadata": {},
   "outputs": [],
   "source": [
    "dataFile = \"./olympic_Data.csv\"\n",
    "\n",
    "schemaStruct = StructType([StructField(\"athlete\",StringType(),True),\n",
    "                           StructField(\"age\",IntegerType(),True),\n",
    "                           StructField(\"country\",StringType(),True),\n",
    "                           StructField(\"year\",IntegerType(),True),\n",
    "                           StructField(\"closingDate\",DateType(),True),\n",
    "                           StructField(\"sport\",StringType(),True),\n",
    "                           StructField(\"goldMedals\",IntegerType(),True),\n",
    "                           StructField(\"silverMedals\",IntegerType(),True),\n",
    "                           StructField(\"bronzeMedals\",IntegerType(),True),\n",
    "                           StructField(\"totalMedals\",IntegerType(),True)\n",
    "                          ])\n",
    "\n",
    "df = spark.read.csv(dataFile,schema=schemaStruct,dateFormat=\"m/d/yyyy\")"
   ]
  },
  {
   "cell_type": "markdown",
   "metadata": {},
   "source": [
    "#### Checking the loaded data"
   ]
  },
  {
   "cell_type": "code",
   "execution_count": 3,
   "metadata": {
    "scrolled": true
   },
   "outputs": [
    {
     "name": "stdout",
     "output_type": "stream",
     "text": [
      "+----------------+---+-------------+----+-----------+----------+----------+------------+------------+-----------+\n",
      "|athlete         |age|country      |year|closingDate|sport     |goldMedals|silverMedals|bronzeMedals|totalMedals|\n",
      "+----------------+---+-------------+----+-----------+----------+----------+------------+------------+-----------+\n",
      "|Michael Phelps  |23 |United States|2008|2008-01-24 |Swimming  |8         |0           |0           |8          |\n",
      "|Michael Phelps  |19 |United States|2004|2004-01-29 |Swimming  |6         |0           |2           |8          |\n",
      "|Michael Phelps  |27 |United States|2012|2012-01-12 |Swimming  |4         |2           |0           |6          |\n",
      "|Natalie Coughlin|25 |United States|2008|2008-01-24 |Swimming  |1         |2           |3           |6          |\n",
      "|Aleksey Nemov   |24 |Russia       |2000|2000-01-01 |Gymnastics|2         |1           |3           |6          |\n",
      "+----------------+---+-------------+----+-----------+----------+----------+------------+------------+-----------+\n",
      "only showing top 5 rows\n",
      "\n"
     ]
    }
   ],
   "source": [
    "df.show(5,False)"
   ]
  },
  {
   "cell_type": "markdown",
   "metadata": {},
   "source": [
    "#### Creating a Temporary table for SQL Analysis"
   ]
  },
  {
   "cell_type": "code",
   "execution_count": 4,
   "metadata": {},
   "outputs": [],
   "source": [
    "df.createOrReplaceTempView(\"olympics\")"
   ]
  },
  {
   "cell_type": "markdown",
   "metadata": {},
   "source": [
    "####  Q1. No of athletes participated in each Olympic event"
   ]
  },
  {
   "cell_type": "code",
   "execution_count": 5,
   "metadata": {},
   "outputs": [
    {
     "name": "stdout",
     "output_type": "stream",
     "text": [
      "+----+-----+\n",
      "|year|count|\n",
      "+----+-----+\n",
      "|2006|443  |\n",
      "|2004|1839 |\n",
      "|2012|1776 |\n",
      "|2000|1840 |\n",
      "|2010|441  |\n",
      "|2008|1872 |\n",
      "|2002|407  |\n",
      "+----+-----+\n",
      "\n"
     ]
    }
   ],
   "source": [
    "(df\n",
    ".groupBy(\"year\")\n",
    ".count()\n",
    ".show(20,truncate=False))"
   ]
  },
  {
   "cell_type": "markdown",
   "metadata": {},
   "source": [
    "#### Using SQL query"
   ]
  },
  {
   "cell_type": "code",
   "execution_count": 6,
   "metadata": {},
   "outputs": [
    {
     "name": "stdout",
     "output_type": "stream",
     "text": [
      "+----+--------+\n",
      "|year|count(1)|\n",
      "+----+--------+\n",
      "|2006|     443|\n",
      "|2004|    1839|\n",
      "|2012|    1776|\n",
      "|2000|    1840|\n",
      "|2010|     441|\n",
      "|2008|    1872|\n",
      "|2002|     407|\n",
      "+----+--------+\n",
      "\n"
     ]
    }
   ],
   "source": [
    "spark.sql(\"\"\"\n",
    "SELECT year\n",
    "     , count(*)\n",
    "  FROM olympics\n",
    " GROUP BY 1\"\"\").show()"
   ]
  },
  {
   "cell_type": "markdown",
   "metadata": {},
   "source": [
    "#### Q2. No of medals each country won in each Olympic in ascending order"
   ]
  },
  {
   "cell_type": "code",
   "execution_count": 7,
   "metadata": {
    "scrolled": false
   },
   "outputs": [
    {
     "name": "stdout",
     "output_type": "stream",
     "text": [
      "+-----------+----+------------+\n",
      "|    country|year|Total_Medals|\n",
      "+-----------+----+------------+\n",
      "|Afghanistan|2008|           1|\n",
      "|Afghanistan|2012|           1|\n",
      "|    Algeria|2000|           5|\n",
      "|    Algeria|2008|           2|\n",
      "|    Algeria|2012|           1|\n",
      "|  Argentina|2008|          51|\n",
      "|  Argentina|2004|          49|\n",
      "|  Argentina|2012|          21|\n",
      "|  Argentina|2000|          20|\n",
      "|    Armenia|2008|           6|\n",
      "|    Armenia|2012|           3|\n",
      "|    Armenia|2000|           1|\n",
      "|  Australia|2000|         183|\n",
      "|  Australia|2004|         156|\n",
      "|  Australia|2008|         149|\n",
      "|  Australia|2012|         114|\n",
      "|  Australia|2010|           3|\n",
      "|  Australia|2006|           2|\n",
      "|  Australia|2002|           2|\n",
      "|    Austria|2006|          30|\n",
      "|    Austria|2010|          26|\n",
      "|    Austria|2002|          20|\n",
      "|    Austria|2004|           8|\n",
      "|    Austria|2000|           4|\n",
      "|    Austria|2008|           3|\n",
      "+-----------+----+------------+\n",
      "only showing top 25 rows\n",
      "\n"
     ]
    }
   ],
   "source": [
    "(df\n",
    ".select(\"country\",\"year\",\"totalMedals\")\n",
    ".groupBy(\"country\",\"year\") \n",
    ".agg(sum(\"totalMedals\").alias(\"Total_Medals\"))\n",
    ".orderBy(asc(\"country\"),desc(\"Total_Medals\"))\n",
    ".show(25)\n",
    ")"
   ]
  },
  {
   "cell_type": "code",
   "execution_count": 8,
   "metadata": {},
   "outputs": [
    {
     "name": "stdout",
     "output_type": "stream",
     "text": [
      "+--------------------+----+------------+\n",
      "|             country|year|Total_Medals|\n",
      "+--------------------+----+------------+\n",
      "|       United States|2000|         243|\n",
      "|              Russia|2000|         187|\n",
      "|           Australia|2000|         183|\n",
      "|             Germany|2000|         118|\n",
      "|               China|2000|          79|\n",
      "|         Netherlands|2000|          79|\n",
      "|         South Korea|2000|          73|\n",
      "|              France|2000|          66|\n",
      "|                Cuba|2000|          65|\n",
      "|               Italy|2000|          65|\n",
      "|       Great Britain|2000|          54|\n",
      "|             Hungary|2000|          53|\n",
      "|              Brazil|2000|          48|\n",
      "|             Romania|2000|          46|\n",
      "|               Japan|2000|          44|\n",
      "|              Norway|2000|          43|\n",
      "|               Spain|2000|          42|\n",
      "|             Ukraine|2000|          35|\n",
      "|              Sweden|2000|          32|\n",
      "|              Canada|2000|          31|\n",
      "|             Denmark|2000|          25|\n",
      "|Serbia and Monten...|2000|          25|\n",
      "|              Poland|2000|          24|\n",
      "|             Jamaica|2000|          23|\n",
      "|             Belarus|2000|          22|\n",
      "+--------------------+----+------------+\n",
      "only showing top 25 rows\n",
      "\n"
     ]
    }
   ],
   "source": [
    "(df\n",
    ".select(\"country\",\"year\",\"totalMedals\")\n",
    ".groupBy(\"country\",\"year\") \n",
    ".agg(sum(\"totalMedals\").alias(\"Total_Medals\"))\n",
    ".orderBy(\"year\",desc(\"Total_Medals\"))\n",
    ".show(25)\n",
    ")"
   ]
  },
  {
   "cell_type": "markdown",
   "metadata": {},
   "source": [
    "#### Using SQL query"
   ]
  },
  {
   "cell_type": "code",
   "execution_count": 9,
   "metadata": {
    "scrolled": true
   },
   "outputs": [
    {
     "name": "stdout",
     "output_type": "stream",
     "text": [
      "+--------------------+----+----------------+\n",
      "|             country|year|sum(totalMedals)|\n",
      "+--------------------+----+----------------+\n",
      "|       United States|2000|             243|\n",
      "|              Russia|2000|             187|\n",
      "|           Australia|2000|             183|\n",
      "|             Germany|2000|             118|\n",
      "|               China|2000|              79|\n",
      "|         Netherlands|2000|              79|\n",
      "|         South Korea|2000|              73|\n",
      "|              France|2000|              66|\n",
      "|                Cuba|2000|              65|\n",
      "|               Italy|2000|              65|\n",
      "|       Great Britain|2000|              54|\n",
      "|             Hungary|2000|              53|\n",
      "|              Brazil|2000|              48|\n",
      "|             Romania|2000|              46|\n",
      "|               Japan|2000|              44|\n",
      "|              Norway|2000|              43|\n",
      "|               Spain|2000|              42|\n",
      "|             Ukraine|2000|              35|\n",
      "|              Sweden|2000|              32|\n",
      "|              Canada|2000|              31|\n",
      "|             Denmark|2000|              25|\n",
      "|Serbia and Monten...|2000|              25|\n",
      "|              Poland|2000|              24|\n",
      "|             Jamaica|2000|              23|\n",
      "|             Belarus|2000|              22|\n",
      "+--------------------+----+----------------+\n",
      "only showing top 25 rows\n",
      "\n"
     ]
    }
   ],
   "source": [
    "spark.sql(\"\"\"\n",
    "SELECT country\n",
    "     , year\n",
    "     , sum(totalMedals)\n",
    "  FROM olympics \n",
    " GROUP BY 1,2\n",
    " ORDER BY 2,3 DESC\"\"\").show(25)"
   ]
  },
  {
   "cell_type": "markdown",
   "metadata": {},
   "source": [
    "#### Q3. Top 10 athletes who won highest gold medals in all the Olympic events"
   ]
  },
  {
   "cell_type": "code",
   "execution_count": 10,
   "metadata": {},
   "outputs": [
    {
     "name": "stdout",
     "output_type": "stream",
     "text": [
      "+--------------------+------------+\n",
      "|             athlete|Total_Medals|\n",
      "+--------------------+------------+\n",
      "|      Michael Phelps|          22|\n",
      "|    Natalie Coughlin|          12|\n",
      "|         Ryan Lochte|          11|\n",
      "|Ole Einar Bj�rndalen|           9|\n",
      "|        Leisel Jones|           9|\n",
      "|          Ian Thorpe|           9|\n",
      "|         Jason Lezak|           8|\n",
      "|         Dara Torres|           8|\n",
      "|    Apolo Anton Ohno|           8|\n",
      "|      Katalin Kov�cs|           8|\n",
      "+--------------------+------------+\n",
      "only showing top 10 rows\n",
      "\n"
     ]
    }
   ],
   "source": [
    "(df\n",
    ".groupBy(\"athlete\")\n",
    ".agg(sum(\"totalMedals\").alias(\"Total_Medals\")) \n",
    ".orderBy(\"Total_Medals\",ascending=False) \n",
    ").show(10)"
   ]
  },
  {
   "cell_type": "markdown",
   "metadata": {},
   "source": [
    "#### Using SQL query"
   ]
  },
  {
   "cell_type": "code",
   "execution_count": 11,
   "metadata": {},
   "outputs": [
    {
     "name": "stdout",
     "output_type": "stream",
     "text": [
      "+--------------------+----------------+\n",
      "|             athlete|sum(totalMedals)|\n",
      "+--------------------+----------------+\n",
      "|      Michael Phelps|              22|\n",
      "|    Natalie Coughlin|              12|\n",
      "|         Ryan Lochte|              11|\n",
      "|          Ian Thorpe|               9|\n",
      "|        Leisel Jones|               9|\n",
      "|Ole Einar Bj�rndalen|               9|\n",
      "|    Apolo Anton Ohno|               8|\n",
      "|         Dara Torres|               8|\n",
      "|      Katalin Kov�cs|               8|\n",
      "|         Jason Lezak|               8|\n",
      "+--------------------+----------------+\n",
      "\n"
     ]
    }
   ],
   "source": [
    "spark.sql(\"\"\"\n",
    "SELECT athlete\n",
    "     , sum(totalMedals)\n",
    "  FROM olympics\n",
    " GROUP BY 1\n",
    " ORDER BY 2 DESC\n",
    " LIMIT 10\"\"\").show()"
   ]
  },
  {
   "cell_type": "markdown",
   "metadata": {},
   "source": [
    "#### Q4. No of athletes who won gold and whose age is less than 20"
   ]
  },
  {
   "cell_type": "code",
   "execution_count": 12,
   "metadata": {},
   "outputs": [
    {
     "data": {
      "text/plain": [
       "188"
      ]
     },
     "execution_count": 12,
     "metadata": {},
     "output_type": "execute_result"
    }
   ],
   "source": [
    "(df\n",
    ".filter(\"age<20 and goldMedals>0\")\n",
    ".count())"
   ]
  },
  {
   "cell_type": "markdown",
   "metadata": {},
   "source": [
    "#### Using a SQL query"
   ]
  },
  {
   "cell_type": "code",
   "execution_count": 13,
   "metadata": {},
   "outputs": [
    {
     "name": "stdout",
     "output_type": "stream",
     "text": [
      "+--------+\n",
      "|count(1)|\n",
      "+--------+\n",
      "|     188|\n",
      "+--------+\n",
      "\n"
     ]
    }
   ],
   "source": [
    "spark.sql(\"\"\"\n",
    "SELECT count(*)\n",
    "  FROM olympics\n",
    " WHERE goldMedals>0\n",
    "   AND age<20\n",
    "\"\"\").show()"
   ]
  },
  {
   "cell_type": "markdown",
   "metadata": {},
   "source": [
    "#### Q5. Youngest athlete who won gold in each category of sports in each Olympic"
   ]
  },
  {
   "cell_type": "code",
   "execution_count": 14,
   "metadata": {},
   "outputs": [
    {
     "name": "stdout",
     "output_type": "stream",
     "text": [
      "+--------------+---+-------------+----+-----------+--------------------+----------+------------+------------+-----------+-------+\n",
      "|       athlete|age|      country|year|closingDate|               sport|goldMedals|silverMedals|bronzeMedals|totalMedals|min_age|\n",
      "+--------------+---+-------------+----+-----------+--------------------+----------+------------+------------+-----------+-------+\n",
      "|    Yang Yilin| 15|        China|2008| 2008-01-24|          Gymnastics|         1|           0|           2|          3|     15|\n",
      "|   Go Gi-Hyeon| 15|  South Korea|2002| 2002-01-24|Short-Track Speed...|         1|           1|           0|          2|     15|\n",
      "|   Chen Ruolin| 15|        China|2008| 2008-01-24|              Diving|         2|           0|           0|          2|     15|\n",
      "| Katie Ledecky| 15|United States|2012| 2012-01-12|            Swimming|         1|           0|           0|          1|     15|\n",
      "|Ruta Meilutyte| 15|    Lithuania|2012| 2012-01-12|            Swimming|         1|           0|           0|          1|     15|\n",
      "|Olga Glatskikh| 15|       Russia|2004| 2004-01-29| Rhythmic Gymnastics|         1|           0|           0|          1|     15|\n",
      "|     Kyla Ross| 15|United States|2012| 2012-01-12|          Gymnastics|         1|           0|           0|          1|     15|\n",
      "+--------------+---+-------------+----+-----------+--------------------+----------+------------+------------+-----------+-------+\n",
      "\n"
     ]
    }
   ],
   "source": [
    "(df\n",
    ".withColumn(\"min_age\",min(\"age\").over(Window.partitionBy()))\n",
    ".filter(\"age = min_age and goldMedals>0\")\n",
    ").show()"
   ]
  },
  {
   "cell_type": "markdown",
   "metadata": {},
   "source": [
    "#### Using a SQL query"
   ]
  },
  {
   "cell_type": "code",
   "execution_count": 15,
   "metadata": {},
   "outputs": [
    {
     "name": "stdout",
     "output_type": "stream",
     "text": [
      "+--------------+---+-------------+----+-----------+--------------------+----------+------------+------------+-----------+\n",
      "|       athlete|age|      country|year|closingDate|               sport|goldMedals|silverMedals|bronzeMedals|totalMedals|\n",
      "+--------------+---+-------------+----+-----------+--------------------+----------+------------+------------+-----------+\n",
      "|    Yang Yilin| 15|        China|2008| 2008-01-24|          Gymnastics|         1|           0|           2|          3|\n",
      "|   Go Gi-Hyeon| 15|  South Korea|2002| 2002-01-24|Short-Track Speed...|         1|           1|           0|          2|\n",
      "|   Chen Ruolin| 15|        China|2008| 2008-01-24|              Diving|         2|           0|           0|          2|\n",
      "| Katie Ledecky| 15|United States|2012| 2012-01-12|            Swimming|         1|           0|           0|          1|\n",
      "|Ruta Meilutyte| 15|    Lithuania|2012| 2012-01-12|            Swimming|         1|           0|           0|          1|\n",
      "|Olga Glatskikh| 15|       Russia|2004| 2004-01-29| Rhythmic Gymnastics|         1|           0|           0|          1|\n",
      "|     Kyla Ross| 15|United States|2012| 2012-01-12|          Gymnastics|         1|           0|           0|          1|\n",
      "+--------------+---+-------------+----+-----------+--------------------+----------+------------+------------+-----------+\n",
      "\n"
     ]
    }
   ],
   "source": [
    "spark.sql(\"\"\"\n",
    "SELECT *\n",
    "  FROM olympics\n",
    " WHERE age = (SELECT min(age) FROM olympics)\n",
    "   AND goldMedals > 0\n",
    "\"\"\").show()"
   ]
  },
  {
   "cell_type": "markdown",
   "metadata": {},
   "source": [
    "#### Q6. No of atheletes from each country who has won a medal in each Olympic in each sports"
   ]
  },
  {
   "cell_type": "code",
   "execution_count": 16,
   "metadata": {},
   "outputs": [
    {
     "name": "stdout",
     "output_type": "stream",
     "text": [
      "+-------------+----+----------+-----+\n",
      "|      country|year|     sport|count|\n",
      "+-------------+----+----------+-----+\n",
      "|United States|2000|  Swimming|   41|\n",
      "|    Australia|2000|    Hockey|   32|\n",
      "|  Netherlands|2000|    Hockey|   32|\n",
      "|United States|2000| Athletics|   27|\n",
      "|    Australia|2000|  Swimming|   26|\n",
      "|       Russia|2000| Waterpolo|   25|\n",
      "|United States|2000|  Baseball|   24|\n",
      "|       Russia|2000|Volleyball|   24|\n",
      "|         Cuba|2000|  Baseball|   24|\n",
      "|  South Korea|2000|  Baseball|   24|\n",
      "|United States|2000|Basketball|   23|\n",
      "|    Australia|2000|    Rowing|   21|\n",
      "|     Cameroon|2000|  Football|   18|\n",
      "|        Chile|2000|  Football|   17|\n",
      "|Great Britain|2000|    Rowing|   17|\n",
      "|      Germany|2000|  Football|   17|\n",
      "|        Spain|2000|  Football|   17|\n",
      "|       Norway|2000|  Football|   17|\n",
      "|      Jamaica|2000| Athletics|   17|\n",
      "|       Russia|2000| Athletics|   17|\n",
      "+-------------+----+----------+-----+\n",
      "only showing top 20 rows\n",
      "\n"
     ]
    }
   ],
   "source": [
    "(df\n",
    ".select(\"country\",\"year\",\"sport\")\n",
    ".groupBy(\"country\",\"year\",\"sport\") \n",
    ".count()\n",
    ".orderBy(\"year\",desc(\"count\")) \n",
    ".show() \n",
    ")"
   ]
  },
  {
   "cell_type": "markdown",
   "metadata": {},
   "source": [
    "#### Using a SQL query"
   ]
  },
  {
   "cell_type": "code",
   "execution_count": 17,
   "metadata": {},
   "outputs": [
    {
     "name": "stdout",
     "output_type": "stream",
     "text": [
      "+-------------+----+----------+-----+\n",
      "|      country|year|     sport|count|\n",
      "+-------------+----+----------+-----+\n",
      "|United States|2000|  Swimming|   41|\n",
      "|    Australia|2000|    Hockey|   32|\n",
      "|  Netherlands|2000|    Hockey|   32|\n",
      "|United States|2000| Athletics|   27|\n",
      "|    Australia|2000|  Swimming|   26|\n",
      "|       Russia|2000| Waterpolo|   25|\n",
      "|United States|2000|  Baseball|   24|\n",
      "|       Russia|2000|Volleyball|   24|\n",
      "|         Cuba|2000|  Baseball|   24|\n",
      "|  South Korea|2000|  Baseball|   24|\n",
      "|United States|2000|Basketball|   23|\n",
      "|    Australia|2000|    Rowing|   21|\n",
      "|     Cameroon|2000|  Football|   18|\n",
      "|        Chile|2000|  Football|   17|\n",
      "|Great Britain|2000|    Rowing|   17|\n",
      "|      Germany|2000|  Football|   17|\n",
      "|        Spain|2000|  Football|   17|\n",
      "|       Norway|2000|  Football|   17|\n",
      "|      Jamaica|2000| Athletics|   17|\n",
      "|       Russia|2000| Athletics|   17|\n",
      "+-------------+----+----------+-----+\n",
      "only showing top 20 rows\n",
      "\n"
     ]
    }
   ],
   "source": [
    "spark.sql(\"\"\"\n",
    "SELECT country\n",
    "     , year\n",
    "     , sport\n",
    "     , count(*) AS count\n",
    "  FROM olympics \n",
    " GROUP BY 1,2,3\n",
    " ORDER BY 2, count desc\n",
    "  \"\"\").show()"
   ]
  },
  {
   "cell_type": "markdown",
   "metadata": {},
   "source": [
    "#### Q7. No of athletes won at least a medal in each events in all the Olympics"
   ]
  },
  {
   "cell_type": "code",
   "execution_count": 18,
   "metadata": {
    "scrolled": true
   },
   "outputs": [
    {
     "name": "stdout",
     "output_type": "stream",
     "text": [
      "+----------+-----+\n",
      "|     sport|count|\n",
      "+----------+-----+\n",
      "| Athletics|  687|\n",
      "|    Rowing|  567|\n",
      "|  Swimming|  487|\n",
      "|  Football|  407|\n",
      "|    Hockey|  388|\n",
      "|Ice Hockey|  384|\n",
      "|  Handball|  351|\n",
      "| Waterpolo|  306|\n",
      "|  Canoeing|  295|\n",
      "|Basketball|  287|\n",
      "|Volleyball|  281|\n",
      "|   Cycling|  261|\n",
      "| Wrestling|  245|\n",
      "|   Fencing|  230|\n",
      "|      Judo|  224|\n",
      "|  Baseball|  216|\n",
      "|   Sailing|  210|\n",
      "|Gymnastics|  194|\n",
      "|    Boxing|  188|\n",
      "|  Shooting|  181|\n",
      "+----------+-----+\n",
      "only showing top 20 rows\n",
      "\n"
     ]
    }
   ],
   "source": [
    "(df\n",
    ".groupBy(\"sport\")\n",
    ".count()\n",
    ".orderBy(\"count\",ascending=False) \n",
    ".show() \n",
    ")"
   ]
  },
  {
   "cell_type": "markdown",
   "metadata": {},
   "source": [
    "#### Using a Spark SQL query"
   ]
  },
  {
   "cell_type": "code",
   "execution_count": 19,
   "metadata": {},
   "outputs": [
    {
     "name": "stdout",
     "output_type": "stream",
     "text": [
      "+----------+--------+\n",
      "|     sport|count(1)|\n",
      "+----------+--------+\n",
      "| Athletics|     687|\n",
      "|    Rowing|     567|\n",
      "|  Swimming|     487|\n",
      "|  Football|     407|\n",
      "|    Hockey|     388|\n",
      "|Ice Hockey|     384|\n",
      "|  Handball|     351|\n",
      "| Waterpolo|     306|\n",
      "|  Canoeing|     295|\n",
      "|Basketball|     287|\n",
      "|Volleyball|     281|\n",
      "|   Cycling|     261|\n",
      "| Wrestling|     245|\n",
      "|   Fencing|     230|\n",
      "|      Judo|     224|\n",
      "|  Baseball|     216|\n",
      "|   Sailing|     210|\n",
      "|Gymnastics|     194|\n",
      "|    Boxing|     188|\n",
      "|  Shooting|     181|\n",
      "+----------+--------+\n",
      "only showing top 20 rows\n",
      "\n"
     ]
    }
   ],
   "source": [
    "spark.sql(\"\"\"\n",
    "SELECT DISTINCT sport\n",
    "     , count(*)\n",
    "  FROM olympics\n",
    " GROUP BY 1\n",
    " ORDER BY 2 DESC\n",
    "\"\"\").show()"
   ]
  },
  {
   "cell_type": "markdown",
   "metadata": {},
   "source": [
    "#### Q8. Country won highest no of medals in wrestling in 2012"
   ]
  },
  {
   "cell_type": "code",
   "execution_count": 20,
   "metadata": {},
   "outputs": [
    {
     "name": "stdout",
     "output_type": "stream",
     "text": [
      "+-------+------------+\n",
      "|country|Total_Medals|\n",
      "+-------+------------+\n",
      "| Russia|          11|\n",
      "+-------+------------+\n",
      "only showing top 1 row\n",
      "\n"
     ]
    }
   ],
   "source": [
    "(df\n",
    ".filter(\"sport = 'Wrestling' and year = 2012\")\n",
    ".groupBy(\"country\")\n",
    ".agg(sum(\"totalMedals\").alias(\"Total_Medals\"))\n",
    ".orderBy(\"Total_Medals\",ascending=False)\n",
    ".show(1)\n",
    ")"
   ]
  },
  {
   "cell_type": "markdown",
   "metadata": {},
   "source": [
    "#### Using a SQL query"
   ]
  },
  {
   "cell_type": "code",
   "execution_count": 21,
   "metadata": {},
   "outputs": [
    {
     "name": "stdout",
     "output_type": "stream",
     "text": [
      "+-------+------------+\n",
      "|country|Total_Medals|\n",
      "+-------+------------+\n",
      "| Russia|          11|\n",
      "+-------+------------+\n",
      "\n"
     ]
    }
   ],
   "source": [
    "spark.sql(\"\"\"\n",
    "SELECT country\n",
    "     , sum(totalMedals) as Total_Medals\n",
    "  FROM olympics\n",
    " WHERE sport = 'Wrestling'\n",
    "   AND year = 2012\n",
    " GROUP BY 1\n",
    " ORDER BY 2 DESC\n",
    " LIMIT 1\n",
    "\"\"\").show()"
   ]
  }
 ],
 "metadata": {
  "kernelspec": {
   "display_name": "Python 3",
   "language": "python",
   "name": "python3"
  },
  "language_info": {
   "codemirror_mode": {
    "name": "ipython",
    "version": 3
   },
   "file_extension": ".py",
   "mimetype": "text/x-python",
   "name": "python",
   "nbconvert_exporter": "python",
   "pygments_lexer": "ipython3",
   "version": "3.8.5"
  }
 },
 "nbformat": 4,
 "nbformat_minor": 4
}
