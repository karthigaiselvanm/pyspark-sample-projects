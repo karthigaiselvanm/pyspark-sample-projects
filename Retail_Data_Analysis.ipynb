{
 "cells": [
  {
   "cell_type": "markdown",
   "metadata": {},
   "source": [
    "# Creating a SparkSession"
   ]
  },
  {
   "cell_type": "code",
   "execution_count": 1,
   "metadata": {},
   "outputs": [],
   "source": [
    "from pyspark.sql import SparkSession\n",
    "from pyspark.sql.types import *\n",
    "from pyspark.sql.functions import *\n",
    "\n",
    "spark = SparkSession.builder.appName(\"Sample Retail Analysis\").getOrCreate()"
   ]
  },
  {
   "cell_type": "markdown",
   "metadata": {},
   "source": [
    "# Reading the data into a DataFrame"
   ]
  },
  {
   "cell_type": "code",
   "execution_count": 2,
   "metadata": {},
   "outputs": [],
   "source": [
    "schema = StructType([StructField(\"Date\", StringType(), True), \n",
    "                     StructField(\"Time\", StringType(), True),\n",
    "                     StructField(\"City\", StringType(), True), \n",
    "                     StructField(\"Product_Cat\", StringType(), True),\n",
    "                     StructField(\"Sale_Value\", FloatType(), True), \n",
    "                     StructField(\"Payment_mode\", StringType(), True)\n",
    "                    ])\n",
    "data = spark.read.csv(\"./data/Retail_Sample_Data_Set.txt\",sep =\"\\t\",schema=schema)"
   ]
  },
  {
   "cell_type": "code",
   "execution_count": 3,
   "metadata": {},
   "outputs": [
    {
     "name": "stdout",
     "output_type": "stream",
     "text": [
      "root\n",
      " |-- Date: string (nullable = true)\n",
      " |-- Time: string (nullable = true)\n",
      " |-- City: string (nullable = true)\n",
      " |-- Product_Cat: string (nullable = true)\n",
      " |-- Sale_Value: float (nullable = true)\n",
      " |-- Payment_mode: string (nullable = true)\n",
      "\n"
     ]
    }
   ],
   "source": [
    "data.printSchema()"
   ]
  },
  {
   "cell_type": "code",
   "execution_count": 4,
   "metadata": {},
   "outputs": [],
   "source": [
    "modDf = (data\n",
    "         .withColumn(\"Date_mod\",to_date(\"Date\",\"yyyy-MM-dd\")).drop(col(\"Date\"))\n",
    "        )\n",
    "                                                                    "
   ]
  },
  {
   "cell_type": "code",
   "execution_count": 5,
   "metadata": {},
   "outputs": [
    {
     "name": "stdout",
     "output_type": "stream",
     "text": [
      "root\n",
      " |-- Time: string (nullable = true)\n",
      " |-- City: string (nullable = true)\n",
      " |-- Product_Cat: string (nullable = true)\n",
      " |-- Sale_Value: float (nullable = true)\n",
      " |-- Payment_mode: string (nullable = true)\n",
      " |-- Date_mod: date (nullable = true)\n",
      "\n"
     ]
    }
   ],
   "source": [
    "modDf.printSchema()"
   ]
  },
  {
   "cell_type": "code",
   "execution_count": 6,
   "metadata": {
    "scrolled": true
   },
   "outputs": [
    {
     "name": "stdout",
     "output_type": "stream",
     "text": [
      "+-----+----------+-------------------+----------+------------+----------+\n",
      "|Time |City      |Product_Cat        |Sale_Value|Payment_mode|Date_mod  |\n",
      "+-----+----------+-------------------+----------+------------+----------+\n",
      "|09:00|San Jose  |Men's Clothing     |214.05    |Amex        |2012-01-01|\n",
      "|09:00|Fort Worth|Women's Clothing   |153.57    |Visa        |2012-01-01|\n",
      "|09:00|San Diego |Music              |66.08     |Cash        |2012-01-01|\n",
      "|09:00|Pittsburgh|Pet Supplies       |493.51    |Discover    |2012-01-01|\n",
      "|09:00|Omaha     |Children's Clothing|235.63    |MasterCard  |2012-01-01|\n",
      "+-----+----------+-------------------+----------+------------+----------+\n",
      "only showing top 5 rows\n",
      "\n"
     ]
    }
   ],
   "source": [
    "modDf.show(5,False)"
   ]
  },
  {
   "cell_type": "markdown",
   "metadata": {},
   "source": [
    "### Find How many Product Categories are available"
   ]
  },
  {
   "cell_type": "code",
   "execution_count": 7,
   "metadata": {},
   "outputs": [
    {
     "data": {
      "text/plain": [
       "18"
      ]
     },
     "execution_count": 7,
     "metadata": {},
     "output_type": "execute_result"
    }
   ],
   "source": [
    "modDf.select(\"Product_Cat\").distinct().count()"
   ]
  },
  {
   "cell_type": "code",
   "execution_count": 8,
   "metadata": {
    "scrolled": true
   },
   "outputs": [
    {
     "name": "stdout",
     "output_type": "stream",
     "text": [
      "+--------------------+\n",
      "|Product_Cat         |\n",
      "+--------------------+\n",
      "|Children's Clothing |\n",
      "|Sporting Goods      |\n",
      "|CDs                 |\n",
      "|Computers           |\n",
      "|Consumer Electronics|\n",
      "|Health and Beauty   |\n",
      "|Pet Supplies        |\n",
      "|DVDs                |\n",
      "|Baby                |\n",
      "|Crafts              |\n",
      "|Women's Clothing    |\n",
      "|Video Games         |\n",
      "|Books               |\n",
      "|Music               |\n",
      "|Men's Clothing      |\n",
      "|Cameras             |\n",
      "|Garden              |\n",
      "|Toys                |\n",
      "+--------------------+\n",
      "\n"
     ]
    }
   ],
   "source": [
    "modDf.select(\"Product_Cat\").distinct().show(truncate=False)"
   ]
  },
  {
   "cell_type": "markdown",
   "metadata": {},
   "source": [
    "## Q1 Calculate sales breakdown by product category across all of the stores"
   ]
  },
  {
   "cell_type": "code",
   "execution_count": 9,
   "metadata": {},
   "outputs": [
    {
     "name": "stdout",
     "output_type": "stream",
     "text": [
      "+--------------------+-----------+\n",
      "|Product_Cat         |Total_Sales|\n",
      "+--------------------+-----------+\n",
      "|Men's Clothing      |4030.89    |\n",
      "|Women's Clothing    |3736.87    |\n",
      "|Books               |3492.8     |\n",
      "|Crafts              |3258.09    |\n",
      "|Toys                |3188.18    |\n",
      "|Consumer Electronics|2963.59    |\n",
      "|DVDs                |2831.0     |\n",
      "|Children's Clothing |2778.21    |\n",
      "|Pet Supplies        |2660.83    |\n",
      "|CDs                 |2644.51    |\n",
      "|Cameras             |2591.27    |\n",
      "|Video Games         |2573.38    |\n",
      "|Health and Beauty   |2467.32    |\n",
      "|Music               |2396.4     |\n",
      "|Computers           |2102.66    |\n",
      "|Baby                |2034.23    |\n",
      "|Sporting Goods      |1952.89    |\n",
      "|Garden              |1882.25    |\n",
      "+--------------------+-----------+\n",
      "\n"
     ]
    }
   ],
   "source": [
    "(modDf\n",
    " .select(\"Product_Cat\",\"Sale_Value\")\n",
    " .groupBy(\"Product_Cat\")\n",
    " .agg(sum(col(\"Sale_Value\")).alias(\"Total_Sales\"))\n",
    " .withColumn(\"Total_Sales\",round(\"Total_Sales\",2))\n",
    " .orderBy(col(\"Total_Sales\"),ascending = False)\n",
    " .show(truncate=False)\n",
    ")"
   ]
  },
  {
   "cell_type": "markdown",
   "metadata": {},
   "source": [
    "## Q2. Calculate sales breakdown by store across all of the stores. Assume there is one store per city"
   ]
  },
  {
   "cell_type": "code",
   "execution_count": 10,
   "metadata": {},
   "outputs": [
    {
     "data": {
      "text/plain": [
       "89"
      ]
     },
     "execution_count": 10,
     "metadata": {},
     "output_type": "execute_result"
    }
   ],
   "source": [
    "modDf.select(\"City\").distinct().count()"
   ]
  },
  {
   "cell_type": "code",
   "execution_count": 11,
   "metadata": {},
   "outputs": [
    {
     "name": "stdout",
     "output_type": "stream",
     "text": [
      "+---------------+-----------+\n",
      "|City           |Total_Sales|\n",
      "+---------------+-----------+\n",
      "|Omaha          |1811.89    |\n",
      "|Austin         |1787.88    |\n",
      "|Chandler       |1648.77    |\n",
      "|Lubbock        |1517.08    |\n",
      "|Jacksonville   |1330.18    |\n",
      "|Pittsburgh     |1271.35    |\n",
      "|Fresno         |1185.87    |\n",
      "|Philadelphia   |1166.76    |\n",
      "|Fort Worth     |1128.14    |\n",
      "|New Orleans    |1118.08    |\n",
      "|Boston         |1114.54    |\n",
      "|Riverside      |1106.01    |\n",
      "|Houston        |1101.95    |\n",
      "|Kansas City    |1093.66    |\n",
      "|Anchorage      |1086.22    |\n",
      "|Lexington      |1080.47    |\n",
      "|Albuquerque    |1074.88    |\n",
      "|Durham         |980.32     |\n",
      "|Phoenix        |955.31     |\n",
      "|Seattle        |934.39     |\n",
      "|Santa Ana      |922.3      |\n",
      "|Scottsdale     |880.26     |\n",
      "|Nashville      |765.05     |\n",
      "|Greensboro     |749.73     |\n",
      "|Honolulu       |717.58     |\n",
      "|Lincoln        |712.77     |\n",
      "|Chesapeake     |676.35     |\n",
      "|Norfolk        |669.25     |\n",
      "|Washington     |650.48     |\n",
      "|Virginia Beach |647.67     |\n",
      "|Toledo         |605.23     |\n",
      "|Memphis        |565.21     |\n",
      "|Madison        |515.48     |\n",
      "|Minneapolis    |504.42     |\n",
      "|Oakland        |501.99     |\n",
      "|Buffalo        |483.82     |\n",
      "|Boise          |481.09     |\n",
      "|New York       |468.91     |\n",
      "|Jersey City    |465.96     |\n",
      "|Fremont        |465.66     |\n",
      "|Wichita        |460.38     |\n",
      "|Spokane        |448.98     |\n",
      "|San Diego      |448.92     |\n",
      "|Charlotte      |440.11     |\n",
      "|Tampa          |437.19     |\n",
      "|Tulsa          |431.95     |\n",
      "|San Jose       |429.87     |\n",
      "|Cleveland      |427.43     |\n",
      "|Milwaukee      |418.91     |\n",
      "|Denver         |413.21     |\n",
      "|North Las Vegas|409.26     |\n",
      "|Arlington      |400.08     |\n",
      "|Columbus       |392.5      |\n",
      "|Mesa           |384.8      |\n",
      "|Gilbert        |374.01     |\n",
      "|Fort Wayne     |370.55     |\n",
      "|Tucson         |367.76     |\n",
      "|Winston�Salem  |361.66     |\n",
      "|Miami          |331.75     |\n",
      "|Cincinnati     |323.38     |\n",
      "|Raleigh        |314.1      |\n",
      "|Dallas         |273.49     |\n",
      "|San Bernardino |270.58     |\n",
      "|San Francisco  |260.65     |\n",
      "|Atlanta        |254.62     |\n",
      "|Stockton       |247.18     |\n",
      "|Reno           |230.85     |\n",
      "|Glendale       |220.63     |\n",
      "|Bakersfield    |217.79     |\n",
      "|Irvine         |208.16     |\n",
      "|St. Petersburg |187.44     |\n",
      "|Saint Paul     |172.06     |\n",
      "|Orlando        |160.07     |\n",
      "|Las Vegas      |146.65     |\n",
      "|Chicago        |146.15     |\n",
      "|Indianapolis   |135.96     |\n",
      "|Detroit        |134.89     |\n",
      "|Garland        |134.33     |\n",
      "|San Antonio    |125.35     |\n",
      "|Aurora         |117.81     |\n",
      "|Anaheim        |114.41     |\n",
      "|Portland       |108.69     |\n",
      "|El Paso        |103.01     |\n",
      "|Long Beach     |98.23      |\n",
      "|Rochester      |75.73      |\n",
      "|Newark         |39.75      |\n",
      "|Los Angeles    |37.77      |\n",
      "|Corpus Christi |25.38      |\n",
      "|Baltimore      |7.98       |\n",
      "+---------------+-----------+\n",
      "\n"
     ]
    }
   ],
   "source": [
    "(modDf\n",
    ".select(\"City\",\"Sale_Value\")\n",
    ".groupBy(\"City\")\n",
    ".agg(sum(\"Sale_Value\").alias(\"Total_Sales\"))\n",
    ".withColumn(\"Total_Sales\",round(\"Total_Sales\",2))\n",
    ".orderBy(\"Total_Sales\",ascending=False) \n",
    ".show(89,truncate=False) \n",
    ")"
   ]
  },
  {
   "cell_type": "markdown",
   "metadata": {},
   "source": [
    "## Q3. Find the total sales values across all the stores and the total number of sales. "
   ]
  },
  {
   "cell_type": "code",
   "execution_count": 12,
   "metadata": {},
   "outputs": [
    {
     "name": "stdout",
     "output_type": "stream",
     "text": [
      "+---------------+-----------+\n",
      "|Number of Sales|Total_Sales|\n",
      "+---------------+-----------+\n",
      "|            200|   49585.37|\n",
      "+---------------+-----------+\n",
      "\n"
     ]
    }
   ],
   "source": [
    "(modDf\n",
    ".select(count(\"Sale_Value\").alias(\"Number of Sales\"),round(sum(\"Sale_Value\"),2).alias(\"Total_Sales\"))\n",
    ".show())"
   ]
  },
  {
   "cell_type": "code",
   "execution_count": 13,
   "metadata": {},
   "outputs": [],
   "source": [
    "spark.stop()"
   ]
  }
 ],
 "metadata": {
  "kernelspec": {
   "display_name": "Python 3",
   "language": "python",
   "name": "python3"
  },
  "language_info": {
   "codemirror_mode": {
    "name": "ipython",
    "version": 3
   },
   "file_extension": ".py",
   "mimetype": "text/x-python",
   "name": "python",
   "nbconvert_exporter": "python",
   "pygments_lexer": "ipython3",
   "version": "3.8.5"
  }
 },
 "nbformat": 4,
 "nbformat_minor": 4
}
