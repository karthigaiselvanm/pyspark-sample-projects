{
 "cells": [
  {
   "cell_type": "markdown",
   "metadata": {},
   "source": [
    "Creating a spark session"
   ]
  },
  {
   "cell_type": "code",
   "execution_count": 3,
   "metadata": {},
   "outputs": [],
   "source": [
    "from pyspark.sql import SparkSession\n",
    "from pyspark.sql.functions import *\n",
    "from pyspark.sql.types import *\n",
    "\n",
    "spark = SparkSession.builder.appName('MnM dataset').getOrCreate()"
   ]
  },
  {
   "cell_type": "markdown",
   "metadata": {},
   "source": [
    "### Read from the CSV and infer the schema"
   ]
  },
  {
   "cell_type": "code",
   "execution_count": 4,
   "metadata": {},
   "outputs": [
    {
     "name": "stdout",
     "output_type": "stream",
     "text": [
      "root\n",
      " |-- State: string (nullable = true)\n",
      " |-- Color: string (nullable = true)\n",
      " |-- Count: integer (nullable = true)\n",
      "\n"
     ]
    }
   ],
   "source": [
    "filePath = \"/home/karthik/SparkCourse/pyspark notebooks/data/mnm_dataset.csv\"\n",
    "\n",
    "data = spark.read.csv(filePath,header=True,inferSchema=True)\n",
    "\n",
    "data.printSchema()"
   ]
  },
  {
   "cell_type": "code",
   "execution_count": 5,
   "metadata": {
    "scrolled": true
   },
   "outputs": [
    {
     "name": "stdout",
     "output_type": "stream",
     "text": [
      "+-----+------+-----+\n",
      "|State|Color |Count|\n",
      "+-----+------+-----+\n",
      "|TX   |Red   |20   |\n",
      "|NV   |Blue  |66   |\n",
      "|CO   |Blue  |79   |\n",
      "|OR   |Blue  |71   |\n",
      "|WA   |Yellow|93   |\n",
      "|WY   |Blue  |16   |\n",
      "|CA   |Yellow|53   |\n",
      "|WA   |Green |60   |\n",
      "|OR   |Green |71   |\n",
      "|TX   |Green |68   |\n",
      "+-----+------+-----+\n",
      "only showing top 10 rows\n",
      "\n"
     ]
    }
   ],
   "source": [
    "data.show(10,False)"
   ]
  },
  {
   "cell_type": "markdown",
   "metadata": {},
   "source": [
    "### Aggregate count of all colors and groupBy state and color, orderBy descending order"
   ]
  },
  {
   "cell_type": "code",
   "execution_count": 6,
   "metadata": {},
   "outputs": [
    {
     "name": "stdout",
     "output_type": "stream",
     "text": [
      "+-----+------+-----------+\n",
      "|State|Color |Total Count|\n",
      "+-----+------+-----------+\n",
      "|CA   |Yellow|1807       |\n",
      "|WA   |Green |1779       |\n",
      "|OR   |Orange|1743       |\n",
      "|TX   |Green |1737       |\n",
      "|TX   |Red   |1725       |\n",
      "|CA   |Green |1723       |\n",
      "|CO   |Yellow|1721       |\n",
      "|CA   |Brown |1718       |\n",
      "|CO   |Green |1713       |\n",
      "|NV   |Orange|1712       |\n",
      "+-----+------+-----------+\n",
      "only showing top 10 rows\n",
      "\n"
     ]
    }
   ],
   "source": [
    "newData = (data\n",
    "           .select(\"State\",\"Color\",\"Count\")\n",
    "           .groupBy(\"State\",\"Color\")\n",
    "           .agg(count(\"Count\").alias(\"Total Count\"))\n",
    "           .orderBy(\"Total Count\",ascending=False)\n",
    "          )\n",
    "\n",
    "newData.show(10,False)"
   ]
  },
  {
   "cell_type": "markdown",
   "metadata": {},
   "source": [
    "### Find the aggregate count for California by filtering on State"
   ]
  },
  {
   "cell_type": "code",
   "execution_count": 7,
   "metadata": {},
   "outputs": [
    {
     "name": "stdout",
     "output_type": "stream",
     "text": [
      "+-----+------+-----------+\n",
      "|State|Color |Total Count|\n",
      "+-----+------+-----------+\n",
      "|CA   |Yellow|1807       |\n",
      "|CA   |Green |1723       |\n",
      "|CA   |Brown |1718       |\n",
      "|CA   |Orange|1657       |\n",
      "|CA   |Red   |1656       |\n",
      "|CA   |Blue  |1603       |\n",
      "+-----+------+-----------+\n",
      "\n"
     ]
    }
   ],
   "source": [
    "calData = (data\n",
    "           .select(\"State\",\"Color\",\"Count\")\n",
    "           .filter(col(\"State\") == \"CA\")\n",
    "           .groupBy(\"State\",\"Color\")\n",
    "           .agg(count(\"Count\").alias(\"Total Count\"))\n",
    "           .orderBy(\"Total Count\",ascending=False)\n",
    "          )\n",
    "\n",
    "calData.show(10,False)"
   ]
  }
 ],
 "metadata": {
  "kernelspec": {
   "display_name": "Python 3",
   "language": "python",
   "name": "python3"
  },
  "language_info": {
   "codemirror_mode": {
    "name": "ipython",
    "version": 3
   },
   "file_extension": ".py",
   "mimetype": "text/x-python",
   "name": "python",
   "nbconvert_exporter": "python",
   "pygments_lexer": "ipython3",
   "version": "3.8.5"
  }
 },
 "nbformat": 4,
 "nbformat_minor": 4
}
