{
 "cells": [
  {
   "cell_type": "markdown",
   "metadata": {},
   "source": [
    "# Titanlic Data Analysis"
   ]
  },
  {
   "cell_type": "markdown",
   "metadata": {},
   "source": [
    "#### Creating a SparkSession"
   ]
  },
  {
   "cell_type": "code",
   "execution_count": 1,
   "metadata": {},
   "outputs": [],
   "source": [
    "from pyspark.sql import SparkSession\n",
    "from pyspark.sql.types import *\n",
    "from pyspark.sql.functions import *\n",
    "\n",
    "spark = SparkSession.builder.appName(\"Titanic Data Analysis\").getOrCreate()"
   ]
  },
  {
   "cell_type": "markdown",
   "metadata": {},
   "source": [
    "#### Setting up the dataFile and the schema structure of the data"
   ]
  },
  {
   "cell_type": "code",
   "execution_count": 2,
   "metadata": {},
   "outputs": [],
   "source": [
    "dataFile = \"./data/titanic_data.txt\"\n",
    "\n",
    "schemaStruct = StructType([StructField(\"rowid\",StringType(),True), \n",
    "                           StructField(\"pclass\",StringType(),True), \n",
    "                           StructField(\"survived\",IntegerType(),True), \n",
    "                           StructField(\"name\",StringType(),True), \n",
    "                           StructField(\"age\",FloatType(),True), \n",
    "                           StructField(\"embarked\",StringType(),True), \n",
    "                           StructField(\"home.dest\",StringType(),True),\n",
    "                           StructField(\"room\",StringType(),True),\n",
    "                           StructField(\"ticket\",StringType(),True),\n",
    "                           StructField(\"boat\",StringType(),True), \n",
    "                           StructField(\"sex\",StringType(),True)\n",
    "                           ])"
   ]
  },
  {
   "cell_type": "markdown",
   "metadata": {},
   "source": [
    "#### Reading the data into a spark DataFrame"
   ]
  },
  {
   "cell_type": "code",
   "execution_count": 3,
   "metadata": {},
   "outputs": [],
   "source": [
    "df = spark.read.csv(dataFile,schema=schemaStruct)"
   ]
  },
  {
   "cell_type": "markdown",
   "metadata": {},
   "source": [
    "#### Checking the schema of the DataFrame"
   ]
  },
  {
   "cell_type": "code",
   "execution_count": 4,
   "metadata": {
    "scrolled": true
   },
   "outputs": [
    {
     "name": "stdout",
     "output_type": "stream",
     "text": [
      "root\n",
      " |-- rowid: string (nullable = true)\n",
      " |-- pclass: string (nullable = true)\n",
      " |-- survived: integer (nullable = true)\n",
      " |-- name: string (nullable = true)\n",
      " |-- age: float (nullable = true)\n",
      " |-- embarked: string (nullable = true)\n",
      " |-- home.dest: string (nullable = true)\n",
      " |-- room: string (nullable = true)\n",
      " |-- ticket: string (nullable = true)\n",
      " |-- boat: string (nullable = true)\n",
      " |-- sex: string (nullable = true)\n",
      "\n"
     ]
    }
   ],
   "source": [
    "df.printSchema()"
   ]
  },
  {
   "cell_type": "markdown",
   "metadata": {},
   "source": [
    "#### Checking few records"
   ]
  },
  {
   "cell_type": "code",
   "execution_count": 5,
   "metadata": {},
   "outputs": [
    {
     "name": "stdout",
     "output_type": "stream",
     "text": [
      "+-----+------+--------+-----------------------------------------------+------+-----------+-------------------------------+----+----------+-----+------+\n",
      "|rowid|pclass|survived|name                                           |age   |embarked   |home.dest                      |room|ticket    |boat |sex   |\n",
      "+-----+------+--------+-----------------------------------------------+------+-----------+-------------------------------+----+----------+-----+------+\n",
      "|1    |1st   |1       |Allen, Miss Elisabeth Walton                   |29.0  |Southampton|St Louis, MO                   |B-5 |24160 L221|2    |female|\n",
      "|2    |1st   |0       |Allison, Miss Helen Loraine                    |2.0   |Southampton|Montreal, PQ / Chesterville, ON|C26 |null      |null |female|\n",
      "|3    |1st   |0       |Allison, Mr Hudson Joshua Creighton            |30.0  |Southampton|Montreal, PQ / Chesterville, ON|C26 |null      |(135)|male  |\n",
      "|4    |1st   |0       |Allison, Mrs Hudson J.C. (Bessie Waldo Daniels)|25.0  |Southampton|Montreal, PQ / Chesterville, ON|C26 |null      |null |female|\n",
      "|5    |1st   |1       |Allison, Master Hudson Trevor                  |0.9167|Southampton|Montreal, PQ / Chesterville, ON|C22 |null      |11   |male  |\n",
      "+-----+------+--------+-----------------------------------------------+------+-----------+-------------------------------+----+----------+-----+------+\n",
      "only showing top 5 rows\n",
      "\n"
     ]
    }
   ],
   "source": [
    "df.show(5,False)"
   ]
  },
  {
   "cell_type": "markdown",
   "metadata": {},
   "source": [
    "#### Changing the data types for rowid and age to Integer"
   ]
  },
  {
   "cell_type": "code",
   "execution_count": 6,
   "metadata": {},
   "outputs": [
    {
     "data": {
      "text/plain": [
       "DataFrame[rowid: int, pclass: string, survived: int, name: string, age: int, embarked: string, home.dest: string, room: string, ticket: string, boat: string, sex: string]"
      ]
     },
     "execution_count": 6,
     "metadata": {},
     "output_type": "execute_result"
    }
   ],
   "source": [
    "(df\n",
    " .withColumn(\"rowid\",col(\"rowid\").cast(\"int\"))\n",
    " .withColumn(\"age\",col(\"age\").cast(\"int\"))\n",
    ")"
   ]
  },
  {
   "cell_type": "markdown",
   "metadata": {},
   "source": [
    "#### Creating a Temporary view on top the DataFrame"
   ]
  },
  {
   "cell_type": "code",
   "execution_count": 7,
   "metadata": {},
   "outputs": [],
   "source": [
    "df.createOrReplaceTempView('titanic')"
   ]
  },
  {
   "cell_type": "markdown",
   "metadata": {},
   "source": [
    "#### Q1. Find the average age of people who died and who survived"
   ]
  },
  {
   "cell_type": "code",
   "execution_count": 8,
   "metadata": {},
   "outputs": [
    {
     "name": "stdout",
     "output_type": "stream",
     "text": [
      "+------------+---------------------+\n",
      "|    Survival|CAST(avg(age) AS INT)|\n",
      "+------------+---------------------+\n",
      "|Not Survived|                   32|\n",
      "|    Survived|                   29|\n",
      "+------------+---------------------+\n",
      "\n"
     ]
    }
   ],
   "source": [
    "(df\n",
    " .withColumn(\"Survival\",when(col(\"survived\") == 1,\"Survived\").otherwise(\"Not Survived\"))\n",
    " .select(\"Survival\",\"age\")\n",
    " .groupBy(\"Survival\")\n",
    " .agg(avg(\"age\").cast('int'))\n",
    " .show()\n",
    ")              "
   ]
  },
  {
   "cell_type": "markdown",
   "metadata": {},
   "source": [
    "#### Using SQL query"
   ]
  },
  {
   "cell_type": "code",
   "execution_count": 9,
   "metadata": {
    "scrolled": true
   },
   "outputs": [
    {
     "name": "stdout",
     "output_type": "stream",
     "text": [
      "+------------+-------+\n",
      "|    survived|avg_age|\n",
      "+------------+-------+\n",
      "|Not Survived|     32|\n",
      "|    Survived|     29|\n",
      "+------------+-------+\n",
      "\n"
     ]
    }
   ],
   "source": [
    "spark.sql(\"\"\"\n",
    "SELECT CASE WHEN survived = 1 THEN 'Survived'\n",
    "        ELSE 'Not Survived' END AS survived\n",
    "     , CAST(avg(age) AS INT) AS avg_age\n",
    "  FROM titanic\n",
    " GROUP BY 1\"\"\").show()"
   ]
  },
  {
   "cell_type": "markdown",
   "metadata": {},
   "source": [
    "#### Q2. Number of males and females survived in following age range: age <= 20, 20 < age <= 50 and (50 < age and age =NA)"
   ]
  },
  {
   "cell_type": "code",
   "execution_count": 10,
   "metadata": {},
   "outputs": [
    {
     "name": "stdout",
     "output_type": "stream",
     "text": [
      "+------+--------------------+-----+\n",
      "|   sex|              AgeInd|count|\n",
      "+------+--------------------+-----+\n",
      "|  male|             age<=20|   78|\n",
      "|female|             age<=20|   67|\n",
      "|  male|50 < age and age= NA|  503|\n",
      "|female|       20 < age <=50|  151|\n",
      "|female|50 < age and age= NA|  245|\n",
      "|  male|       20 < age <=50|  269|\n",
      "+------+--------------------+-----+\n",
      "\n"
     ]
    }
   ],
   "source": [
    "(df\n",
    ".withColumn(\"AgeInd\",expr(\"CASE WHEN age <= 20 THEN 'age<=20'\"+\n",
    "                          \" WHEN age > 20 and age <= 50 THEN ' 20 < age <=50'\"+\n",
    "                          \" ELSE '50 < age and age= NA' END\"))\n",
    ".groupBy(\"sex\",\"AgeInd\")\n",
    ".count()\n",
    ".show()\n",
    ")"
   ]
  },
  {
   "cell_type": "markdown",
   "metadata": {},
   "source": [
    "#### Using SQL query"
   ]
  },
  {
   "cell_type": "code",
   "execution_count": 11,
   "metadata": {},
   "outputs": [
    {
     "name": "stdout",
     "output_type": "stream",
     "text": [
      "+------+-----------------+--------+\n",
      "|   sex|     age_category|count(1)|\n",
      "+------+-----------------+--------+\n",
      "|female|       20<age<=50|     151|\n",
      "|  male|       20<age<=50|     269|\n",
      "|  male|          age<=20|      78|\n",
      "|female|          age<=20|      67|\n",
      "|  male|age>50 and age=NA|     503|\n",
      "|female|age>50 and age=NA|     245|\n",
      "+------+-----------------+--------+\n",
      "\n"
     ]
    }
   ],
   "source": [
    "spark.sql(\"\"\"\n",
    "SELECT sex\n",
    "     , CASE WHEN age<= 20 THEN 'age<=20'\n",
    "            WHEN age>20 and age<=50 THEN'20<age<=50'\n",
    "            ELSE 'age>50 and age=NA' END AS age_category\n",
    "     , COUNT(*)\n",
    "  FROM titanic\n",
    " GROUP BY 1,2\n",
    " ORDER BY 2\n",
    "\"\"\").show()"
   ]
  },
  {
   "cell_type": "markdown",
   "metadata": {},
   "source": [
    "#### Q3. Embarked locations and their count"
   ]
  },
  {
   "cell_type": "code",
   "execution_count": 12,
   "metadata": {
    "scrolled": true
   },
   "outputs": [
    {
     "name": "stdout",
     "output_type": "stream",
     "text": [
      "+-----------+-----+\n",
      "|embarked   |count|\n",
      "+-----------+-----+\n",
      "|null       |492  |\n",
      "|Queenstown |45   |\n",
      "|Southampton|573  |\n",
      "|Cherbourg  |203  |\n",
      "+-----------+-----+\n",
      "\n"
     ]
    }
   ],
   "source": [
    "(df\n",
    ".groupBy(\"embarked\")\n",
    ".count()\n",
    ".show(20,truncate=False)\n",
    ")"
   ]
  },
  {
   "cell_type": "markdown",
   "metadata": {},
   "source": [
    "#### Using SQL query"
   ]
  },
  {
   "cell_type": "code",
   "execution_count": 13,
   "metadata": {},
   "outputs": [
    {
     "name": "stdout",
     "output_type": "stream",
     "text": [
      "+-----------+-----+\n",
      "|   embarked|count|\n",
      "+-----------+-----+\n",
      "| Queenstown|   45|\n",
      "|  Cherbourg|  203|\n",
      "|       null|  492|\n",
      "|Southampton|  573|\n",
      "+-----------+-----+\n",
      "\n"
     ]
    }
   ],
   "source": [
    "spark.sql(\"\"\"\n",
    "SELECT embarked\n",
    "     , count(*) AS count\n",
    "  FROM titanic\n",
    " GROUP BY 1\n",
    " ORDER BY 2\n",
    "\"\"\").show()"
   ]
  },
  {
   "cell_type": "markdown",
   "metadata": {},
   "source": [
    "#### Q4. Number of people survived in each class"
   ]
  },
  {
   "cell_type": "code",
   "execution_count": 14,
   "metadata": {
    "scrolled": true
   },
   "outputs": [
    {
     "name": "stdout",
     "output_type": "stream",
     "text": [
      "+------+-----+\n",
      "|pclass|count|\n",
      "+------+-----+\n",
      "|2nd   |119  |\n",
      "|1st   |193  |\n",
      "|3rd   |137  |\n",
      "+------+-----+\n",
      "\n"
     ]
    }
   ],
   "source": [
    "(df\n",
    ".filter(\"survived = 1\")\n",
    ".groupBy(\"pclass\")\n",
    ".count()\n",
    ".show(10,truncate=False)\n",
    ")"
   ]
  },
  {
   "cell_type": "markdown",
   "metadata": {},
   "source": [
    "#### Using SQL query"
   ]
  },
  {
   "cell_type": "code",
   "execution_count": 15,
   "metadata": {},
   "outputs": [
    {
     "name": "stdout",
     "output_type": "stream",
     "text": [
      "+------+-----+\n",
      "|pclass|count|\n",
      "+------+-----+\n",
      "|   2nd|  119|\n",
      "|   3rd|  137|\n",
      "|   1st|  193|\n",
      "+------+-----+\n",
      "\n"
     ]
    }
   ],
   "source": [
    "spark.sql(\"\"\"\n",
    "SELECT pclass\n",
    "     , COUNT(*) AS count\n",
    "  FROM titanic\n",
    " WHERE survived = 1\n",
    " GROUP BY 1\n",
    " ORDER BY 2\n",
    "\"\"\").show()"
   ]
  },
  {
   "cell_type": "markdown",
   "metadata": {},
   "source": [
    "#### Q5. number of males survived whose age is less than 30 and travelling in 2nd class"
   ]
  },
  {
   "cell_type": "code",
   "execution_count": 16,
   "metadata": {},
   "outputs": [
    {
     "data": {
      "text/plain": [
       "16"
      ]
     },
     "execution_count": 16,
     "metadata": {},
     "output_type": "execute_result"
    }
   ],
   "source": [
    "(df\n",
    ".filter(\"age < 30 and pclass = '2nd' and survived = 1 and sex = 'male'\")\n",
    ".count()\n",
    ")"
   ]
  },
  {
   "cell_type": "markdown",
   "metadata": {},
   "source": [
    "#### Using SQL query"
   ]
  },
  {
   "cell_type": "code",
   "execution_count": 17,
   "metadata": {},
   "outputs": [
    {
     "name": "stdout",
     "output_type": "stream",
     "text": [
      "+-----+\n",
      "|count|\n",
      "+-----+\n",
      "|   16|\n",
      "+-----+\n",
      "\n"
     ]
    }
   ],
   "source": [
    "spark.sql(\"\"\"\n",
    "SELECT COUNT(*) AS count\n",
    "  FROM titanic\n",
    " WHERE age < 30\n",
    "   AND pclass = '2nd'\n",
    "   AND survived = 1\n",
    "   AND sex = 'male'\n",
    "   \"\"\").show()"
   ]
  }
 ],
 "metadata": {
  "kernelspec": {
   "display_name": "Python 3",
   "language": "python",
   "name": "python3"
  },
  "language_info": {
   "codemirror_mode": {
    "name": "ipython",
    "version": 3
   },
   "file_extension": ".py",
   "mimetype": "text/x-python",
   "name": "python",
   "nbconvert_exporter": "python",
   "pygments_lexer": "ipython3",
   "version": "3.8.5"
  }
 },
 "nbformat": 4,
 "nbformat_minor": 4
}
