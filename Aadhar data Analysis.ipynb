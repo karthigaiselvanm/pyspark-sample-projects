{
 "cells": [
  {
   "cell_type": "markdown",
   "metadata": {},
   "source": [
    "#### Aadhaar data Analysis"
   ]
  },
  {
   "cell_type": "markdown",
   "metadata": {},
   "source": [
    "##### Creating a SparkSession"
   ]
  },
  {
   "cell_type": "code",
   "execution_count": 1,
   "metadata": {},
   "outputs": [],
   "source": [
    "from pyspark.sql import SparkSession, Window\n",
    "from pyspark.sql.types import *\n",
    "from pyspark.sql.functions import *\n",
    "\n",
    "spark = SparkSession.builder.appName(\"Aadhaar Analysis\").getOrCreate()"
   ]
  },
  {
   "cell_type": "markdown",
   "metadata": {},
   "source": [
    "##### Setting up Schema and reading data from csvFile"
   ]
  },
  {
   "cell_type": "code",
   "execution_count": 2,
   "metadata": {},
   "outputs": [],
   "source": [
    "schemaStruct = StructType([StructField(\"date\",DateType(),True)\n",
    "                          ,StructField(\"registrar\", StringType(),True)\n",
    "                          ,StructField(\"agency\",StringType(),True)\n",
    "                          ,StructField(\"state\",StringType(),True)\n",
    "                          ,StructField(\"district\",StringType(),True)\n",
    "                          ,StructField(\"subdistrict\",StringType(),True)\n",
    "                          ,StructField(\"pincode\",LongType(),True)\n",
    "                          ,StructField(\"gender\",StringType(),True)\n",
    "                          ,StructField(\"age\",IntegerType(),True)\n",
    "                          ,StructField(\"generated\",IntegerType(),True)\n",
    "                          ,StructField(\"rejected\",IntegerType(),True)\n",
    "                          ,StructField(\"mobile\",IntegerType(),True)\n",
    "                          ,StructField(\"email\",IntegerType(),True)])\n",
    "\n",
    "csvFile = \"./data/aadhaar_data.csv\"\n",
    "\n",
    "data = spark.read.format(\"csv\").schema(schemaStruct).option(\"dateFormat\",\"yyyyMMdd\").load(csvFile)"
   ]
  },
  {
   "cell_type": "markdown",
   "metadata": {},
   "source": [
    "##### Check the Schema"
   ]
  },
  {
   "cell_type": "code",
   "execution_count": 3,
   "metadata": {},
   "outputs": [
    {
     "name": "stdout",
     "output_type": "stream",
     "text": [
      "root\n",
      " |-- date: date (nullable = true)\n",
      " |-- registrar: string (nullable = true)\n",
      " |-- agency: string (nullable = true)\n",
      " |-- state: string (nullable = true)\n",
      " |-- district: string (nullable = true)\n",
      " |-- subdistrict: string (nullable = true)\n",
      " |-- pincode: long (nullable = true)\n",
      " |-- gender: string (nullable = true)\n",
      " |-- age: integer (nullable = true)\n",
      " |-- generated: integer (nullable = true)\n",
      " |-- rejected: integer (nullable = true)\n",
      " |-- mobile: integer (nullable = true)\n",
      " |-- email: integer (nullable = true)\n",
      "\n"
     ]
    }
   ],
   "source": [
    "data.printSchema()"
   ]
  },
  {
   "cell_type": "markdown",
   "metadata": {},
   "source": [
    "##### Check the data"
   ]
  },
  {
   "cell_type": "code",
   "execution_count": 4,
   "metadata": {},
   "outputs": [
    {
     "name": "stdout",
     "output_type": "stream",
     "text": [
      "+----------+--------------+--------------------+-------------+--------------+--------------+-------+------+---+---------+--------+------+-----+\n",
      "|      date|     registrar|              agency|        state|      district|   subdistrict|pincode|gender|age|generated|rejected|mobile|email|\n",
      "+----------+--------------+--------------------+-------------+--------------+--------------+-------+------+---+---------+--------+------+-----+\n",
      "|2015-04-20|Allahabad Bank|A-Onerealtors Pvt...|        Delhi|   South Delhi|Defence Colony| 110025|     F| 49|        1|       0|     0|    1|\n",
      "|2015-04-20|Allahabad Bank|A-Onerealtors Pvt...|        Delhi|   South Delhi|Defence Colony| 110025|     F| 65|        1|       0|     0|    0|\n",
      "|2015-04-20|Allahabad Bank|A-Onerealtors Pvt...|        Delhi|   South Delhi|Defence Colony| 110025|     M| 42|        1|       0|     0|    1|\n",
      "|2015-04-20|Allahabad Bank|A-Onerealtors Pvt...|        Delhi|   South Delhi|Defence Colony| 110025|     M| 61|        1|       0|     0|    1|\n",
      "|2015-04-20|Allahabad Bank|A-Onerealtors Pvt...|Uttar Pradesh|Ambedkar Nagar|      Akbarpur| 224122|     F| 45|        1|       0|     0|    1|\n",
      "|2015-04-20|Allahabad Bank|A-Onerealtors Pvt...|Uttar Pradesh|Ambedkar Nagar|      Akbarpur| 224122|     F| 55|        1|       0|     0|    1|\n",
      "|2015-04-20|Allahabad Bank|A-Onerealtors Pvt...|Uttar Pradesh|Ambedkar Nagar|      Akbarpur| 224122|     F| 60|        1|       0|     0|    0|\n",
      "|2015-04-20|Allahabad Bank|A-Onerealtors Pvt...|Uttar Pradesh|Ambedkar Nagar|      Akbarpur| 224122|     F| 65|        1|       0|     0|    1|\n",
      "|2015-04-20|Allahabad Bank|A-Onerealtors Pvt...|Uttar Pradesh|Ambedkar Nagar|      Akbarpur| 224151|     F| 14|        1|       0|     0|    1|\n",
      "|2015-04-20|Allahabad Bank|A-Onerealtors Pvt...|Uttar Pradesh|Ambedkar Nagar|      Akbarpur| 224151|     M| 47|        1|       0|     0|    1|\n",
      "|2015-04-20|Allahabad Bank|A-Onerealtors Pvt...|Uttar Pradesh|Ambedkar Nagar|      Akbarpur| 224152|     F| 14|        1|       0|     0|    1|\n",
      "|2015-04-20|Allahabad Bank|A-Onerealtors Pvt...|Uttar Pradesh|Ambedkar Nagar|      Akbarpur| 224152|     F| 20|        1|       0|     0|    1|\n",
      "|2015-04-20|Allahabad Bank|A-Onerealtors Pvt...|Uttar Pradesh|Ambedkar Nagar|      Akbarpur| 224152|     F| 28|        1|       0|     0|    0|\n",
      "|2015-04-20|Allahabad Bank|A-Onerealtors Pvt...|Uttar Pradesh|Ambedkar Nagar|      Akbarpur| 224152|     F| 38|        1|       0|     0|    0|\n",
      "|2015-04-20|Allahabad Bank|A-Onerealtors Pvt...|Uttar Pradesh|Ambedkar Nagar|      Akbarpur| 224152|     F| 50|        1|       0|     0|    0|\n",
      "|2015-04-20|Allahabad Bank|A-Onerealtors Pvt...|Uttar Pradesh|Ambedkar Nagar|      Akbarpur| 224152|     F| 54|        1|       0|     0|    0|\n",
      "|2015-04-20|Allahabad Bank|A-Onerealtors Pvt...|Uttar Pradesh|Ambedkar Nagar|      Akbarpur| 224152|     F| 72|        1|       0|     0|    0|\n",
      "|2015-04-20|Allahabad Bank|A-Onerealtors Pvt...|Uttar Pradesh|Ambedkar Nagar|      Akbarpur| 224155|     F|  6|        1|       0|     0|    1|\n",
      "|2015-04-20|Allahabad Bank|A-Onerealtors Pvt...|Uttar Pradesh|Ambedkar Nagar|      Akbarpur| 224155|     F|  7|        2|       0|     0|    2|\n",
      "|2015-04-20|Allahabad Bank|A-Onerealtors Pvt...|Uttar Pradesh|Ambedkar Nagar|      Akbarpur| 224155|     F|  8|        2|       0|     0|    2|\n",
      "+----------+--------------+--------------------+-------------+--------------+--------------+-------+------+---+---------+--------+------+-----+\n",
      "only showing top 20 rows\n",
      "\n"
     ]
    }
   ],
   "source": [
    "data.show()"
   ]
  },
  {
   "cell_type": "markdown",
   "metadata": {},
   "source": [
    "##### KPI-1  \n",
    "\n",
    "######  1. View/result of the top 25 rows from each individual store"
   ]
  },
  {
   "cell_type": "code",
   "execution_count": 5,
   "metadata": {
    "scrolled": true
   },
   "outputs": [
    {
     "name": "stdout",
     "output_type": "stream",
     "text": [
      "+-------------------------------------------------+--------------+\n",
      "|registrar                                        |max(generated)|\n",
      "+-------------------------------------------------+--------------+\n",
      "|Jharkhand                                        |371           |\n",
      "|Govt of Maharashtra                              |201           |\n",
      "|Registrar General India BEL2                     |167           |\n",
      "|DENA BANK                                        |149           |\n",
      "|Registrar General of India ITI                   |147           |\n",
      "|Registrar General India - BEL                    |142           |\n",
      "|NSDL e-Governance Infrastructure Limited         |129           |\n",
      "|Canara Bank                                      |111           |\n",
      "|Union Bank                                       |101           |\n",
      "|Registrar General India ECIL                     |98            |\n",
      "|CSC e-Governance Services India Limited          |95            |\n",
      "|Information Technology & Communication Department|79            |\n",
      "|Bank Of India                                    |67            |\n",
      "|Govt of Andhra Pradesh                           |67            |\n",
      "|Central Bank of India                            |58            |\n",
      "|State Bank of India                              |54            |\n",
      "|Allahabad Bank                                   |53            |\n",
      "|Govt of Kerala                                   |52            |\n",
      "|Govt of Himachal Pradesh                         |48            |\n",
      "|Dept of ITC Govt of Rajasthan                    |48            |\n",
      "|Govt of Gujarat                                  |44            |\n",
      "|Govt of Madhya Pradesh                           |42            |\n",
      "|Indiapost                                        |35            |\n",
      "|Delhi - East DC                                  |34            |\n",
      "|State Bank of Bikaner & Jaipur                   |34            |\n",
      "+-------------------------------------------------+--------------+\n",
      "only showing top 25 rows\n",
      "\n"
     ]
    }
   ],
   "source": [
    "data.groupBy(\"registrar\").agg(expr(\"max(generated)\")).orderBy(\"max(generated)\",ascending=False).show(25,truncate=False)"
   ]
  },
  {
   "cell_type": "code",
   "execution_count": 6,
   "metadata": {},
   "outputs": [],
   "source": [
    "data.createOrReplaceTempView(\"aadhardata\")"
   ]
  },
  {
   "cell_type": "markdown",
   "metadata": {},
   "source": [
    "##### KPI-2\n",
    "###### 1. Find the count and names of registrars in the table."
   ]
  },
  {
   "cell_type": "code",
   "execution_count": 7,
   "metadata": {},
   "outputs": [
    {
     "data": {
      "text/plain": [
       "69"
      ]
     },
     "execution_count": 7,
     "metadata": {},
     "output_type": "execute_result"
    }
   ],
   "source": [
    "data.select(\"registrar\").distinct().count()"
   ]
  },
  {
   "cell_type": "code",
   "execution_count": 8,
   "metadata": {},
   "outputs": [
    {
     "name": "stdout",
     "output_type": "stream",
     "text": [
      "+-------------------------+\n",
      "|count(DISTINCT registrar)|\n",
      "+-------------------------+\n",
      "|                       69|\n",
      "+-------------------------+\n",
      "\n"
     ]
    }
   ],
   "source": [
    "spark.sql(\"\"\"\n",
    "SELECT count(distinct registrar)\n",
    "FROM aadhardata\"\"\").show()"
   ]
  },
  {
   "cell_type": "code",
   "execution_count": 9,
   "metadata": {},
   "outputs": [
    {
     "name": "stdout",
     "output_type": "stream",
     "text": [
      "+-----------------------------------------------------------+\n",
      "|registrar                                                  |\n",
      "+-----------------------------------------------------------+\n",
      "|Govt of Andhra Pradesh                                     |\n",
      "|UT Of Daman and Diu                                        |\n",
      "|Govt of Madhya Pradesh                                     |\n",
      "|Punjab National Bank                                       |\n",
      "|NSDL e-Governance Infrastructure Limited                   |\n",
      "|IDBI Bank ltd                                              |\n",
      "|Delhi - North DC                                           |\n",
      "|Govt of Maharashtra                                        |\n",
      "|Indiapost                                                  |\n",
      "|FCS Govt of Punjab                                         |\n",
      "|Govt of Sikkim - Dept of Econo                             |\n",
      "|Delhi - NE DC                                              |\n",
      "|FCR Govt of Haryana                                        |\n",
      "|IGNOU                                                      |\n",
      "|Principal Revenue Commissioner  Dept of Revenue  Govt of MP|\n",
      "|Syndicate Bank                                             |\n",
      "|Indian Overseas Bank                                       |\n",
      "|Delhi - East DC                                            |\n",
      "|Department of Information Technology Govt of Jharkhand     |\n",
      "|Bank of Maharashtra                                        |\n",
      "|DENA BANK                                                  |\n",
      "|State Bank of India                                        |\n",
      "|Punjab and Sind Bank                                       |\n",
      "|Indian Bank                                                |\n",
      "|Registrar General India - BEL                              |\n",
      "|Delhi SW DC                                                |\n",
      "|Govt of Karnataka                                          |\n",
      "|N S D L                                                    |\n",
      "|Canara Bank                                                |\n",
      "|Central Bank of India                                      |\n",
      "|Govt of Kerala                                             |\n",
      "|Registrar General of India ITI                             |\n",
      "|Jharkhand                                                  |\n",
      "|CSC e-Governance Services India Limited                    |\n",
      "|Allahabad Bank                                             |\n",
      "|Union Bank                                                 |\n",
      "|United Bank of India                                       |\n",
      "|Registrar General India ECIL                               |\n",
      "|RDD Govt of Tripura                                        |\n",
      "|Delhi- South DC                                            |\n",
      "|State Bank of Travancore                                   |\n",
      "|Oriental Bank of Commerce                                  |\n",
      "|Mission Convergence - GNCT Del                             |\n",
      "|Information Technology & Communication Department          |\n",
      "|Delhi-NW DC                                                |\n",
      "|UTI Infrastructure Technology & Services Limited           |\n",
      "|Atalji Janasnehi Directorate  Government of Karnataka      |\n",
      "|UDD Govt of Jharkhand                                      |\n",
      "|Bank of Baroda                                             |\n",
      "|Registrar General India Others                             |\n",
      "|State Bank of Bikaner & Jaipur                             |\n",
      "|Govt of Gujarat                                            |\n",
      "|Govt of Himachal Pradesh                                   |\n",
      "|STATE BANK OF HYDERABAD                                    |\n",
      "|UT of Puducherry                                           |\n",
      "|Govt of Goa                                                |\n",
      "|Delhi Urban Shelter Improvemen                             |\n",
      "|UIDAI-Registrar                                            |\n",
      "|Rural Development Dept  Govt. of Bihar                     |\n",
      "|Delhi- West DC                                             |\n",
      "|Delhi - Central DC                                         |\n",
      "|Bank Of India                                              |\n",
      "|Civil Supplies - A&N Islands                               |\n",
      "|Registrar General India BEL2                               |\n",
      "|Delhi - ND DC                                              |\n",
      "|Life Insurance Corporation                                 |\n",
      "|Dept of ITC Govt of Rajasthan                              |\n",
      "|STATE BANK OF PATIALA                                      |\n",
      "|Project Coordinator UID Project Madhya Pradesh             |\n",
      "+-----------------------------------------------------------+\n",
      "\n"
     ]
    }
   ],
   "source": [
    "data.select(\"registrar\").distinct().show(70,truncate=0)"
   ]
  },
  {
   "cell_type": "code",
   "execution_count": 10,
   "metadata": {},
   "outputs": [
    {
     "name": "stdout",
     "output_type": "stream",
     "text": [
      "+-----------------------------------------------------------+\n",
      "|registrar                                                  |\n",
      "+-----------------------------------------------------------+\n",
      "|Govt of Andhra Pradesh                                     |\n",
      "|UT Of Daman and Diu                                        |\n",
      "|Govt of Madhya Pradesh                                     |\n",
      "|Punjab National Bank                                       |\n",
      "|NSDL e-Governance Infrastructure Limited                   |\n",
      "|IDBI Bank ltd                                              |\n",
      "|Delhi - North DC                                           |\n",
      "|Govt of Maharashtra                                        |\n",
      "|Indiapost                                                  |\n",
      "|FCS Govt of Punjab                                         |\n",
      "|Govt of Sikkim - Dept of Econo                             |\n",
      "|Delhi - NE DC                                              |\n",
      "|FCR Govt of Haryana                                        |\n",
      "|IGNOU                                                      |\n",
      "|Principal Revenue Commissioner  Dept of Revenue  Govt of MP|\n",
      "|Syndicate Bank                                             |\n",
      "|Indian Overseas Bank                                       |\n",
      "|Delhi - East DC                                            |\n",
      "|Department of Information Technology Govt of Jharkhand     |\n",
      "|Bank of Maharashtra                                        |\n",
      "|DENA BANK                                                  |\n",
      "|State Bank of India                                        |\n",
      "|Punjab and Sind Bank                                       |\n",
      "|Indian Bank                                                |\n",
      "|Registrar General India - BEL                              |\n",
      "|Delhi SW DC                                                |\n",
      "|Govt of Karnataka                                          |\n",
      "|N S D L                                                    |\n",
      "|Canara Bank                                                |\n",
      "|Central Bank of India                                      |\n",
      "|Govt of Kerala                                             |\n",
      "|Registrar General of India ITI                             |\n",
      "|Jharkhand                                                  |\n",
      "|CSC e-Governance Services India Limited                    |\n",
      "|Allahabad Bank                                             |\n",
      "|Union Bank                                                 |\n",
      "|United Bank of India                                       |\n",
      "|Registrar General India ECIL                               |\n",
      "|RDD Govt of Tripura                                        |\n",
      "|Delhi- South DC                                            |\n",
      "|State Bank of Travancore                                   |\n",
      "|Oriental Bank of Commerce                                  |\n",
      "|Mission Convergence - GNCT Del                             |\n",
      "|Information Technology & Communication Department          |\n",
      "|Delhi-NW DC                                                |\n",
      "|UTI Infrastructure Technology & Services Limited           |\n",
      "|Atalji Janasnehi Directorate  Government of Karnataka      |\n",
      "|UDD Govt of Jharkhand                                      |\n",
      "|Bank of Baroda                                             |\n",
      "|Registrar General India Others                             |\n",
      "|State Bank of Bikaner & Jaipur                             |\n",
      "|Govt of Gujarat                                            |\n",
      "|Govt of Himachal Pradesh                                   |\n",
      "|STATE BANK OF HYDERABAD                                    |\n",
      "|UT of Puducherry                                           |\n",
      "|Govt of Goa                                                |\n",
      "|Delhi Urban Shelter Improvemen                             |\n",
      "|UIDAI-Registrar                                            |\n",
      "|Rural Development Dept  Govt. of Bihar                     |\n",
      "|Delhi- West DC                                             |\n",
      "|Delhi - Central DC                                         |\n",
      "|Bank Of India                                              |\n",
      "|Civil Supplies - A&N Islands                               |\n",
      "|Registrar General India BEL2                               |\n",
      "|Delhi - ND DC                                              |\n",
      "|Life Insurance Corporation                                 |\n",
      "|Dept of ITC Govt of Rajasthan                              |\n",
      "|STATE BANK OF PATIALA                                      |\n",
      "|Project Coordinator UID Project Madhya Pradesh             |\n",
      "+-----------------------------------------------------------+\n",
      "\n"
     ]
    }
   ],
   "source": [
    "spark.sql(\"\"\"\n",
    "SELECT distinct registrar\n",
    "FROM aadhardata\"\"\").show(70,truncate=0)"
   ]
  },
  {
   "cell_type": "markdown",
   "metadata": {},
   "source": [
    "##### 2.Find the number of states, districts in each state and sub-districts in each district."
   ]
  },
  {
   "cell_type": "code",
   "execution_count": 11,
   "metadata": {
    "scrolled": true
   },
   "outputs": [
    {
     "name": "stdout",
     "output_type": "stream",
     "text": [
      "+----------------------+-----------+--------------+\n",
      "|state                 |no_district|no_subdistrict|\n",
      "+----------------------+-----------+--------------+\n",
      "|Nagaland              |9          |51            |\n",
      "|Karnataka             |44         |217           |\n",
      "|Odisha                |33         |357           |\n",
      "|Kerala                |15         |100           |\n",
      "|Tamil Nadu            |40         |238           |\n",
      "|Chhattisgarh          |34         |148           |\n",
      "|Andhra Pradesh        |29         |1110          |\n",
      "|Lakshadweep           |1          |5             |\n",
      "|Madhya Pradesh        |50         |273           |\n",
      "|Punjab                |25         |99            |\n",
      "|Manipur               |9          |43            |\n",
      "|Goa                   |7          |20            |\n",
      "|Mizoram               |7          |13            |\n",
      "|Dadra and Nagar Haveli|1          |2             |\n",
      "|Himachal Pradesh      |13         |206           |\n",
      "|Puducherry            |4          |15            |\n",
      "|Haryana               |21         |74            |\n",
      "|Jammu and Kashmir     |24         |81            |\n",
      "|Jharkhand             |29         |234           |\n",
      "|Arunachal Pradesh     |16         |39            |\n",
      "+----------------------+-----------+--------------+\n",
      "only showing top 20 rows\n",
      "\n"
     ]
    }
   ],
   "source": [
    "(data\n",
    " .groupBy(\"state\")\n",
    " .agg(expr(\"count(distinct district) as no_district\"), expr(\"count(distinct subdistrict) as no_subdistrict\"))\n",
    " .show(truncate=0)\n",
    ")"
   ]
  },
  {
   "cell_type": "code",
   "execution_count": 12,
   "metadata": {},
   "outputs": [
    {
     "name": "stdout",
     "output_type": "stream",
     "text": [
      "+----------------------+------------------------+---------------------------+\n",
      "|state                 |count(DISTINCT district)|count(DISTINCT subdistrict)|\n",
      "+----------------------+------------------------+---------------------------+\n",
      "|Nagaland              |9                       |51                         |\n",
      "|Karnataka             |44                      |217                        |\n",
      "|Odisha                |33                      |357                        |\n",
      "|Kerala                |15                      |100                        |\n",
      "|Tamil Nadu            |40                      |238                        |\n",
      "|Chhattisgarh          |34                      |148                        |\n",
      "|Andhra Pradesh        |29                      |1110                       |\n",
      "|Lakshadweep           |1                       |5                          |\n",
      "|Madhya Pradesh        |50                      |273                        |\n",
      "|Punjab                |25                      |99                         |\n",
      "|Manipur               |9                       |43                         |\n",
      "|Goa                   |7                       |20                         |\n",
      "|Mizoram               |7                       |13                         |\n",
      "|Dadra and Nagar Haveli|1                       |2                          |\n",
      "|Himachal Pradesh      |13                      |206                        |\n",
      "|Puducherry            |4                       |15                         |\n",
      "|Haryana               |21                      |74                         |\n",
      "|Jammu and Kashmir     |24                      |81                         |\n",
      "|Jharkhand             |29                      |234                        |\n",
      "|Arunachal Pradesh     |16                      |39                         |\n",
      "+----------------------+------------------------+---------------------------+\n",
      "only showing top 20 rows\n",
      "\n"
     ]
    }
   ],
   "source": [
    "spark.sql(\"\"\"\n",
    "SELECT state\n",
    "     , count(distinct district) \n",
    "     , count(distinct subdistrict)\n",
    "  FROM aadhardata\n",
    "  GROUP BY state\"\"\").show(truncate=0)"
   ]
  },
  {
   "cell_type": "markdown",
   "metadata": {},
   "source": [
    "##### 3.Find the number of males and females in each state from the table."
   ]
  },
  {
   "cell_type": "code",
   "execution_count": 13,
   "metadata": {},
   "outputs": [
    {
     "name": "stdout",
     "output_type": "stream",
     "text": [
      "+--------------------+------+--------------+\n",
      "|               state|gender|sum(generated)|\n",
      "+--------------------+------+--------------+\n",
      "|Andaman and Nicob...|     F|           498|\n",
      "|Andaman and Nicob...|     M|           138|\n",
      "|      Andhra Pradesh|     M|        122779|\n",
      "|      Andhra Pradesh|     T|            24|\n",
      "|      Andhra Pradesh|     F|        147252|\n",
      "|   Arunachal Pradesh|     M|          1056|\n",
      "|   Arunachal Pradesh|     F|           122|\n",
      "|               Assam|     M|           694|\n",
      "|               Assam|     F|           197|\n",
      "|               Bihar|     M|        108245|\n",
      "|               Bihar|     F|         99915|\n",
      "|               Bihar|     T|             1|\n",
      "|          Chandigarh|     M|          1043|\n",
      "|          Chandigarh|     F|           935|\n",
      "|        Chhattisgarh|     T|             2|\n",
      "|        Chhattisgarh|     F|         37529|\n",
      "|        Chhattisgarh|     M|         22233|\n",
      "|Dadra and Nagar H...|     F|            38|\n",
      "|Dadra and Nagar H...|     M|            70|\n",
      "|       Daman and Diu|     M|          1222|\n",
      "+--------------------+------+--------------+\n",
      "only showing top 20 rows\n",
      "\n"
     ]
    }
   ],
   "source": [
    "data.groupBy(\"state\",\"gender\").agg(sum(\"generated\")).orderBy(\"state\").show()"
   ]
  },
  {
   "cell_type": "code",
   "execution_count": 14,
   "metadata": {},
   "outputs": [
    {
     "name": "stdout",
     "output_type": "stream",
     "text": [
      "+--------------------+------+----------------+\n",
      "|               state|gender|count(generated)|\n",
      "+--------------------+------+----------------+\n",
      "|Andaman and Nicob...|     F|             257|\n",
      "|Andaman and Nicob...|     M|             143|\n",
      "|      Andhra Pradesh|     M|           74748|\n",
      "|      Andhra Pradesh|     T|              40|\n",
      "|      Andhra Pradesh|     F|           80768|\n",
      "|   Arunachal Pradesh|     M|             273|\n",
      "|   Arunachal Pradesh|     F|              89|\n",
      "|               Assam|     M|             528|\n",
      "|               Assam|     F|             161|\n",
      "|               Bihar|     M|           59173|\n",
      "|               Bihar|     F|           54227|\n",
      "|               Bihar|     T|               1|\n",
      "|          Chandigarh|     M|            1011|\n",
      "|          Chandigarh|     F|             906|\n",
      "|        Chhattisgarh|     T|               2|\n",
      "|        Chhattisgarh|     F|           13349|\n",
      "|        Chhattisgarh|     M|           10189|\n",
      "|Dadra and Nagar H...|     F|              41|\n",
      "|Dadra and Nagar H...|     M|              91|\n",
      "|       Daman and Diu|     M|             481|\n",
      "+--------------------+------+----------------+\n",
      "only showing top 20 rows\n",
      "\n"
     ]
    }
   ],
   "source": [
    "spark.sql(\"\"\"\n",
    "SELECT state\n",
    "     , gender\n",
    "     , count(generated)\n",
    "  FROM aadhardata\n",
    " GROUP BY state, gender\n",
    " ORDER BY state\"\"\").show()"
   ]
  },
  {
   "cell_type": "markdown",
   "metadata": {},
   "source": [
    "##### 4.Find out the names of private agencies for each state"
   ]
  },
  {
   "cell_type": "code",
   "execution_count": 15,
   "metadata": {},
   "outputs": [
    {
     "name": "stdout",
     "output_type": "stream",
     "text": [
      "+---------------------------+----------------------------------------+\n",
      "|state                      |agency                                  |\n",
      "+---------------------------+----------------------------------------+\n",
      "|Andaman and Nicobar Islands|SREEVEN INFOCOM LIMITED                 |\n",
      "|Andaman and Nicobar Islands|Madras Security Printers Ltd            |\n",
      "|Andaman and Nicobar Islands|DATASOFT COMPUTER SERVICES(P)           |\n",
      "|Andaman and Nicobar Islands|Akshaya                                 |\n",
      "|Andaman and Nicobar Islands|Karvy Data Management Services          |\n",
      "|Andaman and Nicobar Islands|A3 Logics  India  Ltd                   |\n",
      "|Andaman and Nicobar Islands|Chinar Construction Company Prime agency|\n",
      "|Andaman and Nicobar Islands|India Computer Technology               |\n",
      "|Andhra Pradesh             |Origin ITFS Pvt Ltd                     |\n",
      "|Andhra Pradesh             |Binary Systems                          |\n",
      "|Andhra Pradesh             |Krishna Infotech                        |\n",
      "|Andhra Pradesh             |BNR UDYOG LIMITED                       |\n",
      "|Andhra Pradesh             |SWISSTECH NPR 57CR PROJECT PVT          |\n",
      "|Andhra Pradesh             |Vedavaag Systems Limited                |\n",
      "|Andhra Pradesh             |AVVAS INFOTECH PVT  LTD                 |\n",
      "|Andhra Pradesh             |i-Grandee SoftwareTechnologies          |\n",
      "|Andhra Pradesh             |Global Finsol Private Limited           |\n",
      "|Andhra Pradesh             |Pioneer E Labs limited                  |\n",
      "|Andhra Pradesh             |FINANCIAL INFORMATION NETWORK           |\n",
      "|Andhra Pradesh             |Gouthami Educational Society            |\n",
      "+---------------------------+----------------------------------------+\n",
      "only showing top 20 rows\n",
      "\n"
     ]
    }
   ],
   "source": [
    "data.select(\"state\",\"agency\").distinct().orderBy(\"state\").show(truncate=False)"
   ]
  },
  {
   "cell_type": "code",
   "execution_count": 16,
   "metadata": {},
   "outputs": [
    {
     "name": "stdout",
     "output_type": "stream",
     "text": [
      "+---------------------------+----------------------------------------+\n",
      "|state                      |agency                                  |\n",
      "+---------------------------+----------------------------------------+\n",
      "|Andaman and Nicobar Islands|A3 Logics  India  Ltd                   |\n",
      "|Andaman and Nicobar Islands|Akshaya                                 |\n",
      "|Andaman and Nicobar Islands|Chinar Construction Company Prime agency|\n",
      "|Andaman and Nicobar Islands|DATASOFT COMPUTER SERVICES(P)           |\n",
      "|Andaman and Nicobar Islands|India Computer Technology               |\n",
      "|Andaman and Nicobar Islands|Karvy Data Management Services          |\n",
      "|Andaman and Nicobar Islands|Madras Security Printers Ltd            |\n",
      "|Andaman and Nicobar Islands|SREEVEN INFOCOM LIMITED                 |\n",
      "|Andhra Pradesh             |4G IDENTITY SOLUTIONS                   |\n",
      "|Andhra Pradesh             |4G INFORMATICS                          |\n",
      "|Andhra Pradesh             |77 Infosystems Pvt Ltd                  |\n",
      "|Andhra Pradesh             |A I Soc for Electronics and Comp Tech   |\n",
      "|Andhra Pradesh             |APOnline Limited                        |\n",
      "|Andhra Pradesh             |ATISHAY INFOTECH PVT. LTD.              |\n",
      "|Andhra Pradesh             |AVVAS INFOTECH PVT  LTD                 |\n",
      "|Andhra Pradesh             |Abhipra Capital Ltd                     |\n",
      "|Andhra Pradesh             |Akshaya                                 |\n",
      "|Andhra Pradesh             |Alankit Assignments Limited             |\n",
      "|Andhra Pradesh             |Alankit Finsec Ltd                      |\n",
      "|Andhra Pradesh             |BASIX                                   |\n",
      "+---------------------------+----------------------------------------+\n",
      "only showing top 20 rows\n",
      "\n"
     ]
    }
   ],
   "source": [
    "spark.sql(\"\"\"\n",
    "SELECT distinct state\n",
    "     , agency\n",
    "  FROM aadhardata\n",
    " ORDER BY state, agency\n",
    "  \"\"\").show(truncate=False)"
   ]
  },
  {
   "cell_type": "markdown",
   "metadata": {},
   "source": [
    "##### KPI-3\n",
    "\n",
    "###### 1. Find top 3 states generating most number of Aadhaar cards?"
   ]
  },
  {
   "cell_type": "code",
   "execution_count": 17,
   "metadata": {},
   "outputs": [
    {
     "name": "stdout",
     "output_type": "stream",
     "text": [
      "+--------------+--------------+\n",
      "|state         |sum(generated)|\n",
      "+--------------+--------------+\n",
      "|Maharashtra   |951201        |\n",
      "|Uttar Pradesh |385463        |\n",
      "|Andhra Pradesh|270055        |\n",
      "+--------------+--------------+\n",
      "only showing top 3 rows\n",
      "\n"
     ]
    }
   ],
   "source": [
    "data.groupBy(\"state\").agg(sum(\"generated\")).orderBy(\"sum(generated)\",ascending=False).show(3, False)"
   ]
  },
  {
   "cell_type": "code",
   "execution_count": 18,
   "metadata": {},
   "outputs": [
    {
     "name": "stdout",
     "output_type": "stream",
     "text": [
      "+--------------+--------------+\n",
      "|         state|sum(generated)|\n",
      "+--------------+--------------+\n",
      "|   Maharashtra|        951201|\n",
      "| Uttar Pradesh|        385463|\n",
      "|Andhra Pradesh|        270055|\n",
      "+--------------+--------------+\n",
      "\n"
     ]
    }
   ],
   "source": [
    "spark.sql(\"\"\"\n",
    "SELECT state\n",
    "     , sum(generated)\n",
    "  FROM aadhardata\n",
    " GROUP BY 1\n",
    " ORDER BY 2 DESC LIMIT 3\"\"\").show()"
   ]
  },
  {
   "cell_type": "markdown",
   "metadata": {},
   "source": [
    "##### 2. Find top 3 private agencies generating the most number of Aadhar cards?"
   ]
  },
  {
   "cell_type": "code",
   "execution_count": 19,
   "metadata": {},
   "outputs": [
    {
     "name": "stdout",
     "output_type": "stream",
     "text": [
      "+-----------------------------+--------------+\n",
      "|agency                       |sum(generated)|\n",
      "+-----------------------------+--------------+\n",
      "|Wipro Ltd                    |745751        |\n",
      "|Vakrangee Softwares Limited  |225273        |\n",
      "|Swathy Smartcards Hi-Tech Pvt|211790        |\n",
      "+-----------------------------+--------------+\n",
      "\n"
     ]
    }
   ],
   "source": [
    "data.groupBy(\"agency\").agg(sum(\"generated\")).orderBy(\"sum(generated)\",ascending=False).limit(3).show(truncate=False)"
   ]
  },
  {
   "cell_type": "code",
   "execution_count": 20,
   "metadata": {
    "scrolled": true
   },
   "outputs": [
    {
     "name": "stdout",
     "output_type": "stream",
     "text": [
      "+--------------------+--------------+\n",
      "|              agency|sum(generated)|\n",
      "+--------------------+--------------+\n",
      "|           Wipro Ltd|        745751|\n",
      "|Vakrangee Softwar...|        225273|\n",
      "|Swathy Smartcards...|        211790|\n",
      "+--------------------+--------------+\n",
      "\n"
     ]
    }
   ],
   "source": [
    "spark.sql(\"\"\"\n",
    "SELECT agency\n",
    "     , sum(generated)\n",
    "  FROM aadhardata\n",
    " GROUP BY 1\n",
    " ORDER BY 2 DESC LIMIT 3\"\"\").show()"
   ]
  },
  {
   "cell_type": "markdown",
   "metadata": {},
   "source": [
    "##### 3. Find the number of residents providing email, mobile number? (Hint: consider non-zero values.)"
   ]
  },
  {
   "cell_type": "code",
   "execution_count": 21,
   "metadata": {
    "scrolled": true
   },
   "outputs": [
    {
     "name": "stdout",
     "output_type": "stream",
     "text": [
      "+-----------+----------+\n",
      "|sum(mobile)|sum(email)|\n",
      "+-----------+----------+\n",
      "|      56504|   1424434|\n",
      "+-----------+----------+\n",
      "\n"
     ]
    }
   ],
   "source": [
    "data.selectExpr(\"sum(mobile)\",\"sum(email)\").show()"
   ]
  },
  {
   "cell_type": "code",
   "execution_count": 22,
   "metadata": {},
   "outputs": [
    {
     "name": "stdout",
     "output_type": "stream",
     "text": [
      "+-----------+----------+\n",
      "|sum(mobile)|sum(email)|\n",
      "+-----------+----------+\n",
      "|      56504|   1424434|\n",
      "+-----------+----------+\n",
      "\n"
     ]
    }
   ],
   "source": [
    "spark.sql(\"\"\"\n",
    "SELECT sum(mobile)\n",
    "     , sum(email)\n",
    "  FROM aadhardata\"\"\").show()"
   ]
  },
  {
   "cell_type": "markdown",
   "metadata": {},
   "source": [
    "##### 4. Find top 3 districts where enrolment numbers are maximum?"
   ]
  },
  {
   "cell_type": "code",
   "execution_count": 23,
   "metadata": {},
   "outputs": [
    {
     "name": "stdout",
     "output_type": "stream",
     "text": [
      "+--------+--------------+\n",
      "|district|sum(generated)|\n",
      "+--------+--------------+\n",
      "|Pune    |140851        |\n",
      "|Mumbai  |114755        |\n",
      "|Nagpur  |99296         |\n",
      "+--------+--------------+\n",
      "\n"
     ]
    }
   ],
   "source": [
    "data.groupBy(\"district\").agg(sum(\"generated\")).orderBy(\"sum(generated)\",ascending=False).limit(3).show(truncate=0)"
   ]
  },
  {
   "cell_type": "code",
   "execution_count": 24,
   "metadata": {},
   "outputs": [
    {
     "name": "stdout",
     "output_type": "stream",
     "text": [
      "+--------+--------------+\n",
      "|district|sum(generated)|\n",
      "+--------+--------------+\n",
      "|Pune    |140851        |\n",
      "|Mumbai  |114755        |\n",
      "|Nagpur  |99296         |\n",
      "+--------+--------------+\n",
      "\n"
     ]
    }
   ],
   "source": [
    "spark.sql(\"\"\"\n",
    "SELECT district\n",
    "     , sum(generated)\n",
    "  FROM aadhardata\n",
    " GROUP BY district\n",
    " ORDER BY 2 desc\n",
    " LIMIT 3\"\"\").show(truncate=0)"
   ]
  },
  {
   "cell_type": "markdown",
   "metadata": {},
   "source": [
    "##### 5. Find the no. of Aadhaar cards generated in each state?"
   ]
  },
  {
   "cell_type": "code",
   "execution_count": 25,
   "metadata": {},
   "outputs": [
    {
     "name": "stdout",
     "output_type": "stream",
     "text": [
      "+----------------------+--------------+\n",
      "|state                 |sum(generated)|\n",
      "+----------------------+--------------+\n",
      "|Nagaland              |631           |\n",
      "|Karnataka             |146013        |\n",
      "|Odisha                |34529         |\n",
      "|Kerala                |150893        |\n",
      "|Tamil Nadu            |131735        |\n",
      "|Chhattisgarh          |59764         |\n",
      "|Andhra Pradesh        |270055        |\n",
      "|Lakshadweep           |15            |\n",
      "|Madhya Pradesh        |171324        |\n",
      "|Punjab                |65644         |\n",
      "|Manipur               |47386         |\n",
      "|Goa                   |7979          |\n",
      "|Mizoram               |323           |\n",
      "|Dadra and Nagar Haveli|108           |\n",
      "|Himachal Pradesh      |33844         |\n",
      "|Puducherry            |568           |\n",
      "|Haryana               |95350         |\n",
      "|Jammu and Kashmir     |17355         |\n",
      "|Jharkhand             |168855        |\n",
      "|Arunachal Pradesh     |1178          |\n",
      "+----------------------+--------------+\n",
      "only showing top 20 rows\n",
      "\n"
     ]
    }
   ],
   "source": [
    "data.groupBy(\"state\").agg(sum(\"generated\")).show(truncate=0)"
   ]
  },
  {
   "cell_type": "code",
   "execution_count": 26,
   "metadata": {},
   "outputs": [
    {
     "name": "stdout",
     "output_type": "stream",
     "text": [
      "+----------------------+--------------+\n",
      "|state                 |sum(generated)|\n",
      "+----------------------+--------------+\n",
      "|Nagaland              |631           |\n",
      "|Karnataka             |146013        |\n",
      "|Odisha                |34529         |\n",
      "|Kerala                |150893        |\n",
      "|Tamil Nadu            |131735        |\n",
      "|Chhattisgarh          |59764         |\n",
      "|Andhra Pradesh        |270055        |\n",
      "|Lakshadweep           |15            |\n",
      "|Madhya Pradesh        |171324        |\n",
      "|Punjab                |65644         |\n",
      "|Manipur               |47386         |\n",
      "|Goa                   |7979          |\n",
      "|Mizoram               |323           |\n",
      "|Dadra and Nagar Haveli|108           |\n",
      "|Himachal Pradesh      |33844         |\n",
      "|Puducherry            |568           |\n",
      "|Haryana               |95350         |\n",
      "|Jammu and Kashmir     |17355         |\n",
      "|Jharkhand             |168855        |\n",
      "|Arunachal Pradesh     |1178          |\n",
      "+----------------------+--------------+\n",
      "only showing top 20 rows\n",
      "\n"
     ]
    }
   ],
   "source": [
    "spark.sql(\"\"\"\n",
    "SELECT state\n",
    "     , sum(generated)\n",
    "  FROM aadhardata\n",
    " GROUP BY 1\"\"\").show(truncate=0)"
   ]
  },
  {
   "cell_type": "markdown",
   "metadata": {},
   "source": [
    "##### KPI-4\n",
    "##### 1. Write a command to see the correlation between “age” and “mobile_number”? (Hint: Consider the percentage of people who have provided the mobile number out of the total applicants)"
   ]
  },
  {
   "cell_type": "code",
   "execution_count": 27,
   "metadata": {},
   "outputs": [
    {
     "data": {
      "text/plain": [
       "-0.024500947199046438"
      ]
     },
     "execution_count": 27,
     "metadata": {},
     "output_type": "execute_result"
    }
   ],
   "source": [
    "(data\n",
    " .withColumn(\"mobPercent\",expr(\"mobile/generated\"))\n",
    " .corr(\"age\",\"mobPercent\")\n",
    ")"
   ]
  },
  {
   "cell_type": "code",
   "execution_count": 28,
   "metadata": {},
   "outputs": [
    {
     "name": "stdout",
     "output_type": "stream",
     "text": [
      "+-------------------------------------+\n",
      "|corr(CAST(age AS DOUBLE), mobPercent)|\n",
      "+-------------------------------------+\n",
      "|                 -0.02866583131236...|\n",
      "+-------------------------------------+\n",
      "\n"
     ]
    }
   ],
   "source": [
    "spark.sql(\"\"\"\n",
    "SELECT corr(age,mobPercent)\n",
    "FROM(\n",
    "SELECT *,mobile/generated as mobPercent\n",
    "FROM aadhardata\n",
    ")A\"\"\").show()"
   ]
  },
  {
   "cell_type": "markdown",
   "metadata": {},
   "source": [
    "##### 2. Find the number of unique pincodes in the data?"
   ]
  },
  {
   "cell_type": "code",
   "execution_count": 29,
   "metadata": {},
   "outputs": [
    {
     "data": {
      "text/plain": [
       "18011"
      ]
     },
     "execution_count": 29,
     "metadata": {},
     "output_type": "execute_result"
    }
   ],
   "source": [
    "data.select(\"pincode\").distinct().count()"
   ]
  },
  {
   "cell_type": "code",
   "execution_count": 30,
   "metadata": {},
   "outputs": [
    {
     "name": "stdout",
     "output_type": "stream",
     "text": [
      "+-----------------------+\n",
      "|count(DISTINCT pincode)|\n",
      "+-----------------------+\n",
      "|                  18010|\n",
      "+-----------------------+\n",
      "\n"
     ]
    }
   ],
   "source": [
    "spark.sql(\"\"\"\n",
    "SELECT count(distinct pincode)\n",
    "FROM aadhardata\n",
    "\"\"\").show()"
   ]
  },
  {
   "cell_type": "markdown",
   "metadata": {},
   "source": [
    "##### 3. Find the number of Aadhaar registrations rejected in Uttar Pradesh and Maharashtra?"
   ]
  },
  {
   "cell_type": "code",
   "execution_count": 31,
   "metadata": {},
   "outputs": [
    {
     "name": "stdout",
     "output_type": "stream",
     "text": [
      "+-------------+-------------+\n",
      "|state        |sum(rejected)|\n",
      "+-------------+-------------+\n",
      "|Maharashtra  |45704        |\n",
      "|Uttar Pradesh|24752        |\n",
      "+-------------+-------------+\n",
      "\n"
     ]
    }
   ],
   "source": [
    "data.filter(expr(\"state = 'Uttar Pradesh' or state = 'Maharashtra'\")).groupby(\"state\").agg(sum(\"rejected\")).show(truncate=0)"
   ]
  },
  {
   "cell_type": "code",
   "execution_count": 32,
   "metadata": {},
   "outputs": [
    {
     "name": "stdout",
     "output_type": "stream",
     "text": [
      "+-------------+-------------+\n",
      "|state        |sum(rejected)|\n",
      "+-------------+-------------+\n",
      "|Maharashtra  |45704        |\n",
      "|Uttar Pradesh|24752        |\n",
      "+-------------+-------------+\n",
      "\n"
     ]
    }
   ],
   "source": [
    "spark.sql(\"\"\"\n",
    "SELECT state\n",
    "     , sum(rejected)\n",
    "  FROM aadhardata\n",
    " WHERE state IN('Uttar Pradesh','Maharashtra')\n",
    " GROUP BY 1\"\"\").show(truncate=False)"
   ]
  },
  {
   "cell_type": "markdown",
   "metadata": {},
   "source": [
    "##### KPI-5\n",
    "##### 1. The top 3 states where the percentage of Aadhaar cards being generated for males is the highest."
   ]
  },
  {
   "cell_type": "code",
   "execution_count": 33,
   "metadata": {},
   "outputs": [],
   "source": [
    "dataAgg = (data\n",
    "           .groupBy(\"state\",\"gender\")\n",
    "           .agg(expr(\"sum(generated) as total_generated\"),expr(\"sum(rejected) as total_rejected\"))\n",
    "          )"
   ]
  },
  {
   "cell_type": "code",
   "execution_count": 35,
   "metadata": {},
   "outputs": [],
   "source": [
    "cond = [data[\"state\"] == dataAgg[\"state\"], data[\"gender\"] == data[\"gender\"]]\n",
    "\n",
    "dataDF = data.join(dataAgg,cond).drop(dataAgg[\"state\"]).drop(dataAgg[\"gender\"])"
   ]
  },
  {
   "cell_type": "code",
   "execution_count": 44,
   "metadata": {},
   "outputs": [
    {
     "name": "stdout",
     "output_type": "stream",
     "text": [
      "+-----------------+-----------+\n",
      "|            state|malePercent|\n",
      "+-----------------+-----------+\n",
      "|      Lakshadweep|      100.0|\n",
      "|          Manipur|      99.93|\n",
      "|Arunachal Pradesh|       98.6|\n",
      "+-----------------+-----------+\n",
      "only showing top 3 rows\n",
      "\n"
     ]
    }
   ],
   "source": [
    "(dataDF\n",
    " .filter(\"gender = 'M'\")\n",
    " .groupBy(\"state\",\"total_generated\",\"total_rejected\")\n",
    " .agg(sum(\"generated\").alias(\"male_generated\"))\n",
    " .withColumn(\"malePercent\",round(expr(\"male_generated/(total_generated+total_rejected) *100\"),2))\n",
    " .select(\"state\",\"malePercent\")\n",
    " .orderBy(\"malePercent\",ascending=False)\n",
    " .show(3)\n",
    ")"
   ]
  },
  {
   "cell_type": "code",
   "execution_count": 45,
   "metadata": {},
   "outputs": [
    {
     "data": {
      "text/plain": [
       "DataFrame[]"
      ]
     },
     "execution_count": 45,
     "metadata": {},
     "output_type": "execute_result"
    }
   ],
   "source": [
    "spark.sql(\"\"\"\n",
    "CREATE TEMP VIEW aadharconsol AS\n",
    "SELECT state\n",
    "     , gender\n",
    "     , sum(generated) as total_generated\n",
    "     , sum(rejected) as total_rejected\n",
    "  FROM aadhardata\n",
    " GROUP BY 1,2\"\"\")"
   ]
  },
  {
   "cell_type": "code",
   "execution_count": 51,
   "metadata": {},
   "outputs": [
    {
     "name": "stdout",
     "output_type": "stream",
     "text": [
      "+-----------------+-----------+\n",
      "|            state|malePercent|\n",
      "+-----------------+-----------+\n",
      "|      Lakshadweep|      100.0|\n",
      "|          Manipur|      99.93|\n",
      "|Arunachal Pradesh|       98.6|\n",
      "+-----------------+-----------+\n",
      "\n"
     ]
    }
   ],
   "source": [
    "spark.sql(\"\"\"\n",
    "SELECT A.state\n",
    "     , round(male_total/(total_generated+total_rejected) * 100 ,2) as malePercent\n",
    "  FROM (SELECT state\n",
    "             , gender\n",
    "             , sum(generated) as male_total\n",
    "          FROM aadhardata\n",
    "         WHERE gender = 'M'\n",
    "         GROUP BY 1, 2) A\n",
    " JOIN aadharconsol B\n",
    "   ON A.state = B.state\n",
    "  AND A.gender = B.gender \n",
    "ORDER BY 2 DESC LIMIT 3\"\"\").show()"
   ]
  },
  {
   "cell_type": "markdown",
   "metadata": {},
   "source": [
    "##### 2. In each of these 3 states, identify the top 3 districts where the percentage of Aadhaar cards being rejected for females is the highest."
   ]
  },
  {
   "cell_type": "code",
   "execution_count": 52,
   "metadata": {},
   "outputs": [],
   "source": [
    "datadistAgg = (data.groupBy(\"state\",\"district\",\"gender\")\n",
    "               .agg(expr(\"sum(generated) as total_generated\"),expr(\"sum(rejected) as total_rejected\")))"
   ]
  },
  {
   "cell_type": "code",
   "execution_count": 53,
   "metadata": {},
   "outputs": [],
   "source": [
    "cond = [data[\"state\"] == datadistAgg[\"state\"], data[\"district\"] == datadistAgg[\"district\"], data[\"gender\"] == datadistAgg[\"gender\"]]"
   ]
  },
  {
   "cell_type": "code",
   "execution_count": 54,
   "metadata": {},
   "outputs": [],
   "source": [
    "datadistDF = data.join(datadistAgg,cond).drop(datadistAgg[\"state\"]).drop(datadistAgg[\"district\"]).drop(datadistAgg[\"gender\"])"
   ]
  },
  {
   "cell_type": "code",
   "execution_count": 73,
   "metadata": {
    "scrolled": true
   },
   "outputs": [
    {
     "name": "stdout",
     "output_type": "stream",
     "text": [
      "+-----------------+---------------+-------------+\n",
      "|state            |district       |femalePercent|\n",
      "+-----------------+---------------+-------------+\n",
      "|Nagaland         |Kohima         |94.32        |\n",
      "|Nagaland         |Phek           |90.48        |\n",
      "|Nagaland         |Mokokchung     |87.5         |\n",
      "|Manipur          |Chandel        |50.0         |\n",
      "|Manipur          |Churachandpur  |40.0         |\n",
      "|Manipur          |Imphal East    |5.26         |\n",
      "|Arunachal Pradesh|Upper Subansiri|100.0        |\n",
      "|Arunachal Pradesh|Lohit          |5.17         |\n",
      "|Arunachal Pradesh|Kurung Kumey   |3.33         |\n",
      "+-----------------+---------------+-------------+\n",
      "\n"
     ]
    }
   ],
   "source": [
    "(datadistDF\n",
    ".filter(\"state in('Manipur','Arunachal Pradesh','Nagaland') and gender='F'\")\n",
    ".groupBy(\"state\",\"district\",\"total_rejected\",\"total_generated\") \n",
    ".agg(expr(\"sum(rejected) as female_rejected\"))\n",
    ".withColumn(\"femalePercent\",round(expr(\"female_rejected/(total_rejected+total_generated) * 100\"),2))\n",
    ".select(\"*\",rank().over(Window.partitionBy(datadistDF[\"state\"]).orderBy(col(\"femalePercent\").desc())).alias(\"rank\"))\n",
    ".filter(col(\"rank\")<=3)\n",
    ".select(\"state\",\"district\",\"femalePercent\") \n",
    ".show(9,False) \n",
    ") "
   ]
  },
  {
   "cell_type": "code",
   "execution_count": 79,
   "metadata": {},
   "outputs": [
    {
     "data": {
      "text/plain": [
       "DataFrame[]"
      ]
     },
     "execution_count": 79,
     "metadata": {},
     "output_type": "execute_result"
    }
   ],
   "source": [
    "spark.sql(\"\"\"\n",
    "CREATE OR REPLACE TEMP VIEW datadistconsol As\n",
    "SELECT state\n",
    "     , district\n",
    "     , gender\n",
    "     , sum(generated) as total_generated\n",
    "     , sum(rejected) as total_rejected\n",
    "  FROM aadhardata\n",
    " GROUP BY 1,2,3\"\"\")"
   ]
  },
  {
   "cell_type": "code",
   "execution_count": 100,
   "metadata": {
    "scrolled": true
   },
   "outputs": [
    {
     "name": "stdout",
     "output_type": "stream",
     "text": [
      "+-----------------+---------------+-------------+\n",
      "|            state|       district|femalePercent|\n",
      "+-----------------+---------------+-------------+\n",
      "|         Nagaland|         Kohima|        94.32|\n",
      "|         Nagaland|           Phek|        90.48|\n",
      "|         Nagaland|     Mokokchung|         87.5|\n",
      "|          Manipur|        Chandel|         50.0|\n",
      "|          Manipur|  Churachandpur|         40.0|\n",
      "|          Manipur|    Imphal East|         5.26|\n",
      "|Arunachal Pradesh|Upper Subansiri|        100.0|\n",
      "|Arunachal Pradesh|          Lohit|         5.17|\n",
      "|Arunachal Pradesh|   Kurung Kumey|         3.33|\n",
      "+-----------------+---------------+-------------+\n",
      "\n"
     ]
    }
   ],
   "source": [
    "spark.sql(\"\"\"\n",
    "SELECT state\n",
    "     , district\n",
    "     , femalePercent\n",
    "FROM(\n",
    "SELECT state\n",
    "     , district\n",
    "     , femalePercent\n",
    "     , rank() over(partition by state order by femalePercent desc) AS rnk\n",
    "FROM(\n",
    "SELECT A.state\n",
    "     , A.district\n",
    "     , round(female_total/(total_generated+total_rejected) * 100 ,2) as femalePercent\n",
    "  FROM (SELECT state\n",
    "             , district\n",
    "             , gender\n",
    "             , sum(rejected) as female_total\n",
    "          FROM aadhardata\n",
    "         WHERE gender = 'F'\n",
    "           AND state in('Manipur','Arunachal Pradesh','Nagaland')\n",
    "         GROUP BY 1, 2,3) A\n",
    " JOIN datadistconsol B\n",
    "   ON A.state = B.state\n",
    "  AND A.gender = B.gender \n",
    "  AND A.district = B.district\n",
    "WHERE A.state in('Manipur','Arunachal Pradesh','Nagaland')\n",
    " ORDER BY 2 DESC)B)c\n",
    " WHERE rnk <= 3\n",
    "\"\"\").show()"
   ]
  },
  {
   "cell_type": "markdown",
   "metadata": {},
   "source": [
    "##### 3. The top 3 states where the percentage of Aadhaar cards being generated for females is the highest."
   ]
  },
  {
   "cell_type": "code",
   "execution_count": 102,
   "metadata": {
    "scrolled": true
   },
   "outputs": [
    {
     "name": "stdout",
     "output_type": "stream",
     "text": [
      "+---------+-------------+\n",
      "|    state|femalePercent|\n",
      "+---------+-------------+\n",
      "|Meghalaya|        100.0|\n",
      "|  Manipur|        99.15|\n",
      "|    Assam|        97.52|\n",
      "+---------+-------------+\n",
      "only showing top 3 rows\n",
      "\n"
     ]
    }
   ],
   "source": [
    "(dataDF\n",
    " .filter(\"gender = 'F'\")\n",
    " .groupBy(\"state\",\"total_generated\",\"total_rejected\")\n",
    " .agg(sum(\"generated\").alias(\"female_generated\"))\n",
    " .withColumn(\"femalePercent\",round(expr(\"female_generated/(total_generated+total_rejected) *100\"),2))\n",
    " .select(\"state\",\"femalePercent\")\n",
    " .orderBy(\"femalePercent\",ascending=False)\n",
    " .show(3)\n",
    ")"
   ]
  },
  {
   "cell_type": "code",
   "execution_count": 104,
   "metadata": {},
   "outputs": [
    {
     "name": "stdout",
     "output_type": "stream",
     "text": [
      "+---------+-------------+\n",
      "|    state|femalePercent|\n",
      "+---------+-------------+\n",
      "|Meghalaya|        100.0|\n",
      "|  Manipur|        99.15|\n",
      "|    Assam|        97.52|\n",
      "+---------+-------------+\n",
      "\n"
     ]
    }
   ],
   "source": [
    "spark.sql(\"\"\"\n",
    "SELECT A.state\n",
    "     , round(female_total/(total_generated+total_rejected) * 100 ,2) as femalePercent\n",
    "  FROM (SELECT state\n",
    "             , gender\n",
    "             , sum(generated) as female_total\n",
    "          FROM aadhardata\n",
    "         WHERE gender = 'F'\n",
    "         GROUP BY 1, 2) A\n",
    " JOIN aadharconsol B\n",
    "   ON A.state = B.state\n",
    "  AND A.gender = B.gender \n",
    "ORDER BY 2 DESC LIMIT 3\"\"\").show()"
   ]
  },
  {
   "cell_type": "markdown",
   "metadata": {},
   "source": [
    "##### 4. In each of these 3 states, identify the top 3 districts where the percentage of Aadhaar cards being rejected for males is the highest."
   ]
  },
  {
   "cell_type": "code",
   "execution_count": 109,
   "metadata": {},
   "outputs": [
    {
     "name": "stdout",
     "output_type": "stream",
     "text": [
      "+---------+----------+-----------+\n",
      "|state    |district  |malePercent|\n",
      "+---------+----------+-----------+\n",
      "|Manipur  |Senapati  |1.32       |\n",
      "|Manipur  |Tamenglong|1.12       |\n",
      "|Manipur  |Thoubal   |0.8        |\n",
      "|Manipur  |Bishnupur |0.8        |\n",
      "|Assam    |Udalguri  |25.0       |\n",
      "|Assam    |Hailakandi|25.0       |\n",
      "|Assam    |Karimganj |18.18      |\n",
      "|Meghalaya|Ri Bhoi   |50.0       |\n",
      "+---------+----------+-----------+\n",
      "only showing top 8 rows\n",
      "\n"
     ]
    }
   ],
   "source": [
    "(datadistDF\n",
    ".filter(\"state in('Meghalaya','Manipur','Assam') and gender='M'\")\n",
    ".groupBy(\"state\",\"district\",\"total_rejected\",\"total_generated\") \n",
    ".agg(expr(\"sum(rejected) as male_rejected\"))\n",
    ".withColumn(\"malePercent\",round(expr(\"male_rejected/(total_rejected+total_generated) * 100\"),2))\n",
    ".select(\"*\",rank().over(Window.partitionBy(datadistDF[\"state\"]).orderBy(col(\"malePercent\").desc())).alias(\"rank\"))\n",
    ".filter(col(\"rank\")<=3)\n",
    ".select(\"state\",\"district\",\"malePercent\") \n",
    ".show(8,truncate=False) \n",
    ") "
   ]
  },
  {
   "cell_type": "code",
   "execution_count": 110,
   "metadata": {
    "scrolled": true
   },
   "outputs": [
    {
     "name": "stdout",
     "output_type": "stream",
     "text": [
      "+---------+----------------+-------------+\n",
      "|    state|        district|femalePercent|\n",
      "+---------+----------------+-------------+\n",
      "|  Manipur|        Senapati|         1.32|\n",
      "|  Manipur|      Tamenglong|         1.12|\n",
      "|  Manipur|         Thoubal|          0.8|\n",
      "|  Manipur|       Bishnupur|          0.8|\n",
      "|    Assam|        Udalguri|         25.0|\n",
      "|    Assam|      Hailakandi|         25.0|\n",
      "|    Assam|       Karimganj|        18.18|\n",
      "|Meghalaya|         Ri Bhoi|         50.0|\n",
      "|Meghalaya| West Garo Hills|          0.0|\n",
      "|Meghalaya|   Jaintia Hills|          0.0|\n",
      "|Meghalaya|East Khasi Hills|          0.0|\n",
      "|Meghalaya| East Garo Hills|          0.0|\n",
      "+---------+----------------+-------------+\n",
      "\n"
     ]
    }
   ],
   "source": [
    "spark.sql(\"\"\"\n",
    "SELECT state\n",
    "     , district\n",
    "     , femalePercent\n",
    "FROM(\n",
    "SELECT state\n",
    "     , district\n",
    "     , femalePercent\n",
    "     , rank() over(partition by state order by femalePercent desc) AS rnk\n",
    "FROM(\n",
    "SELECT A.state\n",
    "     , A.district\n",
    "     , round(female_total/(total_generated+total_rejected) * 100 ,2) as femalePercent\n",
    "  FROM (SELECT state\n",
    "             , district\n",
    "             , gender\n",
    "             , sum(rejected) as female_total\n",
    "          FROM aadhardata\n",
    "         WHERE gender = 'M'\n",
    "           AND state in('Meghalaya','Manipur','Assam') \n",
    "         GROUP BY 1, 2,3) A\n",
    " JOIN datadistconsol B\n",
    "   ON A.state = B.state\n",
    "  AND A.gender = B.gender \n",
    "  AND A.district = B.district\n",
    "WHERE A.state in('Meghalaya','Manipur','Assam') \n",
    " ORDER BY 2 DESC)B)c\n",
    " WHERE rnk <= 3\n",
    "\"\"\").show()"
   ]
  },
  {
   "cell_type": "markdown",
   "metadata": {},
   "source": [
    "##### 5. The summary of the acceptance percentage of all the Aadhaar cards applications by bucketing the age group into 10 buckets."
   ]
  },
  {
   "cell_type": "code",
   "execution_count": 122,
   "metadata": {},
   "outputs": [],
   "source": [
    "dataBuckets=(data\n",
    " .select(\"age\",\"generated\",\"rejected\")\n",
    " .groupBy(\"age\")\n",
    " .agg(expr(\"sum(generated) as total_generated\"),expr(\"sum(rejected) as total_rejected\"))\n",
    " .withColumn(\"acceptPercent\",round(expr(\"total_generated/(total_rejected+total_generated) * 100\"),2))\n",
    " .select(\"age\",\"acceptPercent\"))\n"
   ]
  },
  {
   "cell_type": "code",
   "execution_count": 131,
   "metadata": {},
   "outputs": [],
   "source": [
    "dataBuckets.write.format(\"csv\").mode(\"overwrite\").bucketBy(10,\"age\").sortBy(\"age\").saveAsTable(\"ageBucket\")"
   ]
  },
  {
   "cell_type": "code",
   "execution_count": 133,
   "metadata": {},
   "outputs": [
    {
     "name": "stdout",
     "output_type": "stream",
     "text": [
      "+----------------------------+------------------------------------------------------------------------------+-------+\n",
      "|col_name                    |data_type                                                                     |comment|\n",
      "+----------------------------+------------------------------------------------------------------------------+-------+\n",
      "|age                         |int                                                                           |null   |\n",
      "|acceptPercent               |double                                                                        |null   |\n",
      "|                            |                                                                              |       |\n",
      "|# Detailed Table Information|                                                                              |       |\n",
      "|Database                    |default                                                                       |       |\n",
      "|Table                       |agebucket                                                                     |       |\n",
      "|Created Time                |Fri Jun 11 16:13:10 IST 2021                                                  |       |\n",
      "|Last Access                 |UNKNOWN                                                                       |       |\n",
      "|Created By                  |Spark 3.0.1                                                                   |       |\n",
      "|Type                        |MANAGED                                                                       |       |\n",
      "|Provider                    |csv                                                                           |       |\n",
      "|Num Buckets                 |10                                                                            |       |\n",
      "|Bucket Columns              |[`age`]                                                                       |       |\n",
      "|Sort Columns                |[`age`]                                                                       |       |\n",
      "|Location                    |file:/home/karthik/SparkCourse/pyspark%2520notebooks/spark-warehouse/agebucket|       |\n",
      "+----------------------------+------------------------------------------------------------------------------+-------+\n",
      "\n"
     ]
    }
   ],
   "source": [
    "spark.sql(\"DESCRIBE FORMATTED ageBucket\").show(truncate=0)"
   ]
  },
  {
   "cell_type": "code",
   "execution_count": 135,
   "metadata": {},
   "outputs": [
    {
     "name": "stdout",
     "output_type": "stream",
     "text": [
      "+---+-------------+\n",
      "|age|acceptPercent|\n",
      "+---+-------------+\n",
      "|148|          0.0|\n",
      "|123|        100.0|\n",
      "| 95|        93.36|\n",
      "| 32|        91.04|\n",
      "| 60|         92.3|\n",
      "| 90|        94.27|\n",
      "| 22|        90.88|\n",
      "|128|        100.0|\n",
      "| 92|         94.8|\n",
      "|122|          0.0|\n",
      "|105|        71.43|\n",
      "| 87|        93.05|\n",
      "| 34|        91.47|\n",
      "|  3|        83.44|\n",
      "| 54|        91.15|\n",
      "|120|        100.0|\n",
      "| 72|        89.01|\n",
      "| 29|        91.47|\n",
      "| 44|        90.93|\n",
      "| 80|         93.4|\n",
      "+---+-------------+\n",
      "only showing top 20 rows\n",
      "\n"
     ]
    }
   ],
   "source": [
    "spark.sql(\"SELECT * FROM ageBucket\").show()"
   ]
  },
  {
   "cell_type": "markdown",
   "metadata": {},
   "source": [
    "##### Closing up the SparkSession"
   ]
  },
  {
   "cell_type": "code",
   "execution_count": 136,
   "metadata": {},
   "outputs": [],
   "source": [
    "spark.stop()"
   ]
  }
 ],
 "metadata": {
  "kernelspec": {
   "display_name": "Python 3",
   "language": "python",
   "name": "python3"
  },
  "language_info": {
   "codemirror_mode": {
    "name": "ipython",
    "version": 3
   },
   "file_extension": ".py",
   "mimetype": "text/x-python",
   "name": "python",
   "nbconvert_exporter": "python",
   "pygments_lexer": "ipython3",
   "version": "3.8.5"
  }
 },
 "nbformat": 4,
 "nbformat_minor": 4
}
