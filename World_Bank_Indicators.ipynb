{
 "cells": [
  {
   "cell_type": "code",
   "execution_count": 1,
   "metadata": {},
   "outputs": [],
   "source": [
    "from pyspark.sql import SparkSession,Window\n",
    "from pyspark.sql.types import *\n",
    "from pyspark.sql.functions import *\n",
    "from datetime import datetime\n",
    "\n",
    "spark = SparkSession.builder.appName(\"World Bank Indicators\").getOrCreate()"
   ]
  },
  {
   "cell_type": "code",
   "execution_count": 2,
   "metadata": {},
   "outputs": [],
   "source": [
    "dataFile = \"./data/World_Bank_Indicators.csv\"\n",
    "schemaStruct = StructType([StructField(\"Country\",StringType(),True),\n",
    "                           StructField(\"Date\",StringType(),True),\n",
    "                           StructField(\"Railways\",StringType(),True),\n",
    "                           StructField(\"Passenger_cars\",StringType(),True),\n",
    "                           StructField(\"Mobile_Users\",StringType(),True),\n",
    "                           StructField(\"Internet_Users\",StringType(),True),\n",
    "                           StructField(\"Mortality\",StringType(),True),\n",
    "                           StructField(\"Health_exp_per_capita\",StringType(),True),\n",
    "                           StructField(\"Health_exp\",StringType(),True),\n",
    "                           StructField(\"Total_Population\",StringType(),True),\n",
    "                           StructField(\"Urban_Population\",StringType(),True),\n",
    "                           StructField(\"Birth_Rate\",StringType(),True),\n",
    "                           StructField(\"Female_Life_Exp\",StringType(),True),\n",
    "                           StructField(\"Male Life Exp\",StringType(),True),\n",
    "                           StructField(\"Life_Exp\",StringType(),True),\n",
    "                           StructField(\"Age_0_14\",StringType(),True),\n",
    "                           StructField(\"Age_15_64\",StringType(),True),\n",
    "                           StructField(\"Age_65+\",StringType(),True),\n",
    "                           StructField(\"GDP\",StringType(),True),\n",
    "                           StructField(\"GDP_per_capita\",StringType(),True),                           \n",
    "                           \n",
    "                          ])\n",
    "data= spark.read.csv(dataFile,schema=schemaStruct)"
   ]
  },
  {
   "cell_type": "code",
   "execution_count": 3,
   "metadata": {},
   "outputs": [],
   "source": [
    "data1 = data.na.fill(\"0\")"
   ]
  },
  {
   "cell_type": "code",
   "execution_count": 4,
   "metadata": {},
   "outputs": [
    {
     "data": {
      "text/plain": [
       "<function __main__.udf_to_long(col_str)>"
      ]
     },
     "execution_count": 4,
     "metadata": {},
     "output_type": "execute_result"
    }
   ],
   "source": [
    "def udf_to_long(col_str):\n",
    "    return regexp_replace(col_str,',','').cast('long')\n",
    "\n",
    "spark.udf.register('udf_to_long',udf_to_long,StringType())"
   ]
  },
  {
   "cell_type": "code",
   "execution_count": 5,
   "metadata": {},
   "outputs": [],
   "source": [
    "def udf_to_date(date_str):\n",
    "        return to_date(date_str,\"d/m/yyyy\")"
   ]
  },
  {
   "cell_type": "code",
   "execution_count": 6,
   "metadata": {},
   "outputs": [
    {
     "data": {
      "text/plain": [
       "Column<b\"to_date(`7/1/2000`, 'd/m/yyyy')\">"
      ]
     },
     "execution_count": 6,
     "metadata": {},
     "output_type": "execute_result"
    }
   ],
   "source": [
    "udf_to_date('7/1/2000')"
   ]
  },
  {
   "cell_type": "code",
   "execution_count": 7,
   "metadata": {
    "scrolled": true
   },
   "outputs": [
    {
     "data": {
      "text/plain": [
       "<function __main__.udf_to_date(date_str)>"
      ]
     },
     "execution_count": 7,
     "metadata": {},
     "output_type": "execute_result"
    }
   ],
   "source": [
    "spark.udf.register('udf_to_date',udf_to_date,StringType())"
   ]
  },
  {
   "cell_type": "code",
   "execution_count": 8,
   "metadata": {},
   "outputs": [
    {
     "name": "stdout",
     "output_type": "stream",
     "text": [
      "+--------+---------------------------+\n",
      "|    Date|to_date(`Date`, 'd/m/yyyy')|\n",
      "+--------+---------------------------+\n",
      "|7/1/2000|                 2000-01-07|\n",
      "|7/1/2001|                 2001-01-07|\n",
      "|7/1/2002|                 2002-01-07|\n",
      "|7/1/2003|                 2003-01-07|\n",
      "|7/1/2004|                 2004-01-07|\n",
      "|7/1/2005|                 2005-01-07|\n",
      "|7/1/2006|                 2006-01-07|\n",
      "|7/1/2007|                 2007-01-07|\n",
      "|7/1/2008|                 2008-01-07|\n",
      "|7/1/2009|                 2009-01-07|\n",
      "|7/1/2010|                 2010-01-07|\n",
      "|7/1/2000|                 2000-01-07|\n",
      "|7/1/2001|                 2001-01-07|\n",
      "|7/1/2002|                 2002-01-07|\n",
      "|7/1/2003|                 2003-01-07|\n",
      "|7/1/2004|                 2004-01-07|\n",
      "|7/1/2005|                 2005-01-07|\n",
      "|7/1/2006|                 2006-01-07|\n",
      "|7/1/2007|                 2007-01-07|\n",
      "|7/1/2008|                 2008-01-07|\n",
      "+--------+---------------------------+\n",
      "only showing top 20 rows\n",
      "\n"
     ]
    }
   ],
   "source": [
    "data1.select(\"Date\",udf_to_date(\"Date\")).show()"
   ]
  },
  {
   "cell_type": "code",
   "execution_count": 9,
   "metadata": {},
   "outputs": [],
   "source": [
    "newdata = (data1\n",
    "           .withColumn('Date',udf_to_date(\"Date\"))\n",
    "           .withColumn('Railways',udf_to_long('Railways'))\n",
    "           .withColumn('Passenger_cars',udf_to_long('Passenger_cars'))\n",
    "           .withColumn('Mobile_Users',udf_to_long('Mobile_Users'))\n",
    "           .withColumn('Internet_Users',udf_to_long('Internet_Users'))\n",
    "           .withColumn('Mortality',udf_to_long('Mortality'))      \n",
    "           .withColumn('Health_exp_per_capita',udf_to_long('Health_exp_per_capita'))  \n",
    "           .withColumn('Health_exp',udf_to_long('Health_exp'))               \n",
    "           .withColumn('Urban_Population',udf_to_long('Urban_Population'))\n",
    "           .withColumn('Total_Population',udf_to_long('Total_Population'))     \n",
    "           .withColumn('Birth_Rate',udf_to_long('Birth_Rate'))      \n",
    "           .withColumn('Female_Life_Exp',udf_to_long('Female_Life_Exp'))  \n",
    "           .withColumn('Male Life Exp',udf_to_long('Male Life Exp'))               \n",
    "           .withColumn('Life_Exp',udf_to_long('Life_Exp'))\n",
    "           .withColumn('Age_0_14',udf_to_long('Age_0_14'))           \n",
    "           .withColumn('Age_15_64',udf_to_long('Age_15_64'))      \n",
    "           .withColumn('Age_65+',udf_to_long('Age_65+'))  \n",
    "           .withColumn('GDP',udf_to_long('GDP'))               \n",
    "           .withColumn('GDP_per_capita',udf_to_long('GDP_per_capita'))\n",
    "          )                \n",
    "           "
   ]
  },
  {
   "cell_type": "code",
   "execution_count": 10,
   "metadata": {},
   "outputs": [
    {
     "name": "stdout",
     "output_type": "stream",
     "text": [
      "+-----------+----------+--------+--------------+------------+--------------+---------+---------------------+----------+----------------+----------------+----------+---------------+-------------+--------+--------+---------+-------+---+--------------+\n",
      "|    Country|      Date|Railways|Passenger_cars|Mobile_Users|Internet_Users|Mortality|Health_exp_per_capita|Health_exp|Total_Population|Urban_Population|Birth_Rate|Female_Life_Exp|Male Life Exp|Life_Exp|Age_0_14|Age_15_64|Age_65+|GDP|GDP_per_capita|\n",
      "+-----------+----------+--------+--------------+------------+--------------+---------+---------------------+----------+----------------+----------------+----------+---------------+-------------+--------+--------+---------+-------+---+--------------+\n",
      "|Afghanistan|2000-01-07|       0|             0|           0|             0|      151|                   11|         8|        25950816|         5527524|        51|             45|           45|      45|      48|       50|      2|  0|             0|\n",
      "+-----------+----------+--------+--------------+------------+--------------+---------+---------------------+----------+----------------+----------------+----------+---------------+-------------+--------+--------+---------+-------+---+--------------+\n",
      "only showing top 1 row\n",
      "\n"
     ]
    }
   ],
   "source": [
    "newdata.show(1)"
   ]
  },
  {
   "cell_type": "markdown",
   "metadata": {},
   "source": [
    "## Q1.Highest urban population - Country having the highest urban population"
   ]
  },
  {
   "cell_type": "code",
   "execution_count": 12,
   "metadata": {},
   "outputs": [
    {
     "name": "stdout",
     "output_type": "stream",
     "text": [
      "+-------+----------------------+\n",
      "|Country|Total_Urban_Population|\n",
      "+-------+----------------------+\n",
      "|  China|             600683425|\n",
      "+-------+----------------------+\n",
      "only showing top 1 row\n",
      "\n"
     ]
    }
   ],
   "source": [
    "(newdata\n",
    ".select('Country','Urban_Population')\n",
    ".groupBy('Country')\n",
    ".agg(max('Urban_Population').alias('Total_Urban_Population'))\n",
    ".orderBy('Total_Urban_Population',ascending=False) \n",
    ".show(1) \n",
    ")"
   ]
  },
  {
   "cell_type": "markdown",
   "metadata": {},
   "source": [
    "## Q2.Most populous Countries - List of countries in the descending order of their population"
   ]
  },
  {
   "cell_type": "code",
   "execution_count": 13,
   "metadata": {
    "scrolled": true
   },
   "outputs": [
    {
     "name": "stdout",
     "output_type": "stream",
     "text": [
      "+-------------+----------------+\n",
      "|Country      |Total_Population|\n",
      "+-------------+----------------+\n",
      "|China        |1337825000      |\n",
      "|India        |1224614327      |\n",
      "|United States|309349689       |\n",
      "|Indonesia    |239870937       |\n",
      "|Brazil       |194946470       |\n",
      "+-------------+----------------+\n",
      "only showing top 5 rows\n",
      "\n"
     ]
    }
   ],
   "source": [
    "(newdata\n",
    ".select('Country','Total_Population')\n",
    ".groupBy('Country')\n",
    ".agg(max('Total_Population').alias('Total_Population'))\n",
    ".orderBy('Total_Population',ascending=False) \n",
    ".show(5,False) \n",
    ")"
   ]
  },
  {
   "cell_type": "markdown",
   "metadata": {},
   "source": [
    "## Q3. Highest population growth - Country with highest % population growth in past decade"
   ]
  },
  {
   "cell_type": "code",
   "execution_count": 14,
   "metadata": {},
   "outputs": [],
   "source": [
    "modDf = (newdata\n",
    "         .withColumn(\"max_pop\",max(\"Total_Population\").over(Window.partitionBy(\"Country\")))\n",
    "         .withColumn(\"min_pop\",min(\"Total_Population\").over(Window.partitionBy(\"Country\")))\n",
    ")"
   ]
  },
  {
   "cell_type": "code",
   "execution_count": 15,
   "metadata": {},
   "outputs": [],
   "source": [
    "modDf = modDf.withColumn('Population_Growth',expr(\"((max_pop-min_pop)/min_pop)*100\"))"
   ]
  },
  {
   "cell_type": "code",
   "execution_count": 16,
   "metadata": {},
   "outputs": [
    {
     "name": "stdout",
     "output_type": "stream",
     "text": [
      "+-------+----------------------+\n",
      "|Country|max(Population_Growth)|\n",
      "+-------+----------------------+\n",
      "|  Qatar|     197.6177623752659|\n",
      "+-------+----------------------+\n",
      "only showing top 1 row\n",
      "\n"
     ]
    }
   ],
   "source": [
    "modDf.groupBy(\"Country\").agg(max(\"Population_Growth\")).orderBy(\"max(Population_Growth)\",ascending=False).show(1)"
   ]
  },
  {
   "cell_type": "markdown",
   "metadata": {},
   "source": [
    "## Q4. Highest GDP growth - List of Countries with highest GDP growth from 2009 to 2010 in descending order"
   ]
  },
  {
   "cell_type": "code",
   "execution_count": 17,
   "metadata": {},
   "outputs": [
    {
     "name": "stdout",
     "output_type": "stream",
     "text": [
      "+-------+----------+--------+--------------+------------+--------------+---------+---------------------+----------+----------------+----------------+----------+---------------+-------------+--------+--------+---------+-------+-------------+--------------+----------+----------+-----------------+\n",
      "|Country|      Date|Railways|Passenger_cars|Mobile_Users|Internet_Users|Mortality|Health_exp_per_capita|Health_exp|Total_Population|Urban_Population|Birth_Rate|Female_Life_Exp|Male Life Exp|Life_Exp|Age_0_14|Age_15_64|Age_65+|          GDP|GDP_per_capita|   max_pop|   min_pop|Population_Growth|\n",
      "+-------+----------+--------+--------------+------------+--------------+---------+---------------------+----------+----------------+----------------+----------+---------------+-------------+--------+--------+---------+-------+-------------+--------------+----------+----------+-----------------+\n",
      "|  China|2009-01-07|  787890|            34|   747214000|            29|       20|                  191|         5|      1331380000|       585807200|        12|             75|           71|      73|      20|       72|      8|4991256406735|          3749|1337825000|1262645000| 5.95416764015222|\n",
      "|  China|2010-01-07|  791158|             0|   859003000|            34|       18|                  221|         5|      1337825000|       600683425|        12|             75|           72|      73|      19|       72|      8|5930529470799|          4433|1337825000|1262645000| 5.95416764015222|\n",
      "+-------+----------+--------+--------------+------------+--------------+---------+---------------------+----------+----------------+----------------+----------+---------------+-------------+--------+--------+---------+-------+-------------+--------------+----------+----------+-----------------+\n",
      "\n"
     ]
    }
   ],
   "source": [
    "modDf.filter(expr(\"year(Date) == 2009 or year(Date) == 2010\")).filter(\"Country = 'China'\").show()"
   ]
  },
  {
   "cell_type": "code",
   "execution_count": 18,
   "metadata": {},
   "outputs": [],
   "source": [
    "modnewDF = (modDf.filter(expr(\"year(Date) = 2009 or year(Date) = 2010\"))\n",
    "           .withColumn(\"max_GDP\",max(\"GDP\").over(Window.partitionBy(\"Country\")))\n",
    "           .withColumn(\"min_GDP\",min(\"GDP\").over(Window.partitionBy(\"Country\")))\n",
    "           )"
   ]
  },
  {
   "cell_type": "code",
   "execution_count": 19,
   "metadata": {},
   "outputs": [],
   "source": [
    "modnewDF = (modnewDF\n",
    "           .withColumn(\"GDP_Growth\",expr(\"max_GDP-min_GDP\")))"
   ]
  },
  {
   "cell_type": "code",
   "execution_count": 20,
   "metadata": {},
   "outputs": [
    {
     "name": "stdout",
     "output_type": "stream",
     "text": [
      "+------------------+------------+\n",
      "|Country           |GDP_Growth  |\n",
      "+------------------+------------+\n",
      "|China             |939273064064|\n",
      "|United States     |583500000000|\n",
      "|Brazil            |521373825603|\n",
      "|Japan             |453274928126|\n",
      "|Iran, Islamic Rep.|331014973186|\n",
      "|India             |323266546576|\n",
      "|Russian Federation|264867473958|\n",
      "|Canada            |239462442466|\n",
      "|Australia         |207425653765|\n",
      "|Korea, Rep.       |180829700030|\n",
      "|Indonesia         |168446881442|\n",
      "|Mexico            |153516134331|\n",
      "|Turkey            |116590470733|\n",
      "|United Kingdom    |80512352076 |\n",
      "|South Africa      |80510778707 |\n",
      "|Saudi Arabia      |74098666667 |\n",
      "|Spain             |72293506497 |\n",
      "|France            |70657737599 |\n",
      "|Italy             |67508282591 |\n",
      "|Venezuela, RB     |64388531931 |\n",
      "+------------------+------------+\n",
      "only showing top 20 rows\n",
      "\n"
     ]
    }
   ],
   "source": [
    "modnewDF.select(\"Country\",\"GDP_Growth\").distinct().orderBy(\"GDP_Growth\",ascending=False).show(truncate=False)"
   ]
  },
  {
   "cell_type": "markdown",
   "metadata": {},
   "source": [
    "## Q5: Internet usage grown - Country where Internet usage has grown the most in the past decade"
   ]
  },
  {
   "cell_type": "code",
   "execution_count": 21,
   "metadata": {},
   "outputs": [],
   "source": [
    "modnewDF1 = (modDf\n",
    "           .withColumn(\"max_Internet_Users\",max(\"Internet_Users\").over(Window.partitionBy(\"Country\")))\n",
    "           .withColumn(\"min_Internet_Users\",min(\"Internet_Users\").over(Window.partitionBy(\"Country\")))\n",
    "           )"
   ]
  },
  {
   "cell_type": "code",
   "execution_count": 22,
   "metadata": {},
   "outputs": [],
   "source": [
    "modnewDF1 = (modnewDF1\n",
    "           .withColumn(\"Internet_Users_Growth\",expr(\"max_Internet_Users-min_Internet_Users\")))"
   ]
  },
  {
   "cell_type": "code",
   "execution_count": 23,
   "metadata": {},
   "outputs": [
    {
     "name": "stdout",
     "output_type": "stream",
     "text": [
      "+-------+---------------------+\n",
      "|Country|Internet_Users_Growth|\n",
      "+-------+---------------------+\n",
      "|Qatar  |82                   |\n",
      "+-------+---------------------+\n",
      "only showing top 1 row\n",
      "\n"
     ]
    }
   ],
   "source": [
    "modnewDF1.select(\"Country\",\"Internet_Users_Growth\").distinct().orderBy(\"Internet_Users_Growth\",ascending=False).show(1,truncate=False)"
   ]
  },
  {
   "cell_type": "markdown",
   "metadata": {},
   "source": [
    "## Q6. Youngest Country - Yearly distribution of youngest Countries"
   ]
  },
  {
   "cell_type": "code",
   "execution_count": 26,
   "metadata": {},
   "outputs": [
    {
     "name": "stdout",
     "output_type": "stream",
     "text": [
      "+-------+--------------+\n",
      "|Country|max(Age_15_64)|\n",
      "+-------+--------------+\n",
      "|Qatar  |85            |\n",
      "+-------+--------------+\n",
      "only showing top 1 row\n",
      "\n"
     ]
    }
   ],
   "source": [
    "modnewDF1.select(\"Country\",\"Age_15_64\").groupBy(\"Country\").agg(max(\"Age_15_64\")).orderBy(\"max(Age_15_64)\",ascending=False).show(1,truncate=False)"
   ]
  }
 ],
 "metadata": {
  "kernelspec": {
   "display_name": "Python 3",
   "language": "python",
   "name": "python3"
  },
  "language_info": {
   "codemirror_mode": {
    "name": "ipython",
    "version": 3
   },
   "file_extension": ".py",
   "mimetype": "text/x-python",
   "name": "python",
   "nbconvert_exporter": "python",
   "pygments_lexer": "ipython3",
   "version": "3.8.5"
  }
 },
 "nbformat": 4,
 "nbformat_minor": 4
}
